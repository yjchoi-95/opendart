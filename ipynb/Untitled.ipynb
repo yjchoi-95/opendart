{
 "cells": [
  {
   "cell_type": "markdown",
   "id": "cac014c3-37f2-478e-b31f-a060b9478dcb",
   "metadata": {},
   "source": [
    "## Import "
   ]
  },
  {
   "cell_type": "code",
   "execution_count": 1,
   "id": "3963408a-d706-49ce-9380-544e2b679ebe",
   "metadata": {},
   "outputs": [],
   "source": [
    "from tqdm import tqdm\n",
    "\n",
    "import pandas as pd\n",
    "import numpy as np\n",
    "import OpenDartReader\n",
    "import warnings\n",
    "import dart_fss\n",
    "import time\n",
    "import re, os\n",
    "\n",
    "warnings.filterwarnings('ignore')"
   ]
  },
  {
   "cell_type": "code",
   "execution_count": null,
   "id": "048def83-8e65-44a3-a12b-90ba8f223042",
   "metadata": {},
   "outputs": [],
   "source": []
  },
  {
   "cell_type": "markdown",
   "id": "a7751c3e-d152-41b5-ba59-394e86210973",
   "metadata": {},
   "source": [
    "* API Setting"
   ]
  },
  {
   "cell_type": "code",
   "execution_count": 2,
   "id": "393cc12e-2b8b-438e-97f9-56e6e48beb49",
   "metadata": {},
   "outputs": [
    {
     "data": {
      "text/plain": [
       "'1b39652cef07f626c9d37375edf582ee51b1407f'"
      ]
     },
     "execution_count": 2,
     "metadata": {},
     "output_type": "execute_result"
    }
   ],
   "source": [
    "api_key = '1b39652cef07f626c9d37375edf582ee51b1407f'\n",
    "dart = OpenDartReader(api_key)\n",
    "dart_fss.set_api_key(api_key=api_key)"
   ]
  },
  {
   "cell_type": "code",
   "execution_count": 16,
   "id": "5bc59ddf-a23f-4b27-ab45-bcbb8ad3bd9e",
   "metadata": {},
   "outputs": [
    {
     "data": {
      "text/html": [
       "<div>\n",
       "<style scoped>\n",
       "    .dataframe tbody tr th:only-of-type {\n",
       "        vertical-align: middle;\n",
       "    }\n",
       "\n",
       "    .dataframe tbody tr th {\n",
       "        vertical-align: top;\n",
       "    }\n",
       "\n",
       "    .dataframe thead th {\n",
       "        text-align: right;\n",
       "    }\n",
       "</style>\n",
       "<table border=\"1\" class=\"dataframe\">\n",
       "  <thead>\n",
       "    <tr style=\"text-align: right;\">\n",
       "      <th></th>\n",
       "      <th>corp_code</th>\n",
       "      <th>corp_name</th>\n",
       "      <th>stock_code</th>\n",
       "      <th>modify_date</th>\n",
       "    </tr>\n",
       "  </thead>\n",
       "  <tbody>\n",
       "    <tr>\n",
       "      <th>0</th>\n",
       "      <td>00434003</td>\n",
       "      <td>다코</td>\n",
       "      <td></td>\n",
       "      <td>20170630</td>\n",
       "    </tr>\n",
       "    <tr>\n",
       "      <th>1</th>\n",
       "      <td>00434456</td>\n",
       "      <td>일산약품</td>\n",
       "      <td></td>\n",
       "      <td>20170630</td>\n",
       "    </tr>\n",
       "    <tr>\n",
       "      <th>2</th>\n",
       "      <td>00430964</td>\n",
       "      <td>굿앤엘에스</td>\n",
       "      <td></td>\n",
       "      <td>20170630</td>\n",
       "    </tr>\n",
       "    <tr>\n",
       "      <th>3</th>\n",
       "      <td>00432403</td>\n",
       "      <td>한라판지</td>\n",
       "      <td></td>\n",
       "      <td>20170630</td>\n",
       "    </tr>\n",
       "    <tr>\n",
       "      <th>4</th>\n",
       "      <td>00388953</td>\n",
       "      <td>크레디피아제이십오차유동화전문회사</td>\n",
       "      <td></td>\n",
       "      <td>20170630</td>\n",
       "    </tr>\n",
       "    <tr>\n",
       "      <th>...</th>\n",
       "      <td>...</td>\n",
       "      <td>...</td>\n",
       "      <td>...</td>\n",
       "      <td>...</td>\n",
       "    </tr>\n",
       "    <tr>\n",
       "      <th>98561</th>\n",
       "      <td>00646510</td>\n",
       "      <td>미래에셋파트너스사호사모투자전문회사</td>\n",
       "      <td></td>\n",
       "      <td>20230228</td>\n",
       "    </tr>\n",
       "    <tr>\n",
       "      <th>98562</th>\n",
       "      <td>01184822</td>\n",
       "      <td>미래에셋파트너스9호사모투자</td>\n",
       "      <td></td>\n",
       "      <td>20230228</td>\n",
       "    </tr>\n",
       "    <tr>\n",
       "      <th>98563</th>\n",
       "      <td>00755252</td>\n",
       "      <td>시니안</td>\n",
       "      <td></td>\n",
       "      <td>20230228</td>\n",
       "    </tr>\n",
       "    <tr>\n",
       "      <th>98564</th>\n",
       "      <td>00227582</td>\n",
       "      <td>청호나이스</td>\n",
       "      <td></td>\n",
       "      <td>20230228</td>\n",
       "    </tr>\n",
       "    <tr>\n",
       "      <th>98565</th>\n",
       "      <td>01615845</td>\n",
       "      <td>메타버스월드</td>\n",
       "      <td></td>\n",
       "      <td>20230228</td>\n",
       "    </tr>\n",
       "  </tbody>\n",
       "</table>\n",
       "<p>98566 rows × 4 columns</p>\n",
       "</div>"
      ],
      "text/plain": [
       "      corp_code           corp_name stock_code modify_date\n",
       "0      00434003                  다코               20170630\n",
       "1      00434456                일산약품               20170630\n",
       "2      00430964               굿앤엘에스               20170630\n",
       "3      00432403                한라판지               20170630\n",
       "4      00388953   크레디피아제이십오차유동화전문회사               20170630\n",
       "...         ...                 ...        ...         ...\n",
       "98561  00646510  미래에셋파트너스사호사모투자전문회사               20230228\n",
       "98562  01184822      미래에셋파트너스9호사모투자               20230228\n",
       "98563  00755252                 시니안               20230228\n",
       "98564  00227582               청호나이스               20230228\n",
       "98565  01615845              메타버스월드               20230228\n",
       "\n",
       "[98566 rows x 4 columns]"
      ]
     },
     "execution_count": 16,
     "metadata": {},
     "output_type": "execute_result"
    }
   ],
   "source": [
    "dart.corp_codes"
   ]
  },
  {
   "cell_type": "code",
   "execution_count": 17,
   "id": "ac2b8619-cd22-4a1c-bd04-4bac7f0d414c",
   "metadata": {},
   "outputs": [
    {
     "name": "stdout",
     "output_type": "stream",
     "text": [
      "{'status': '013', 'message': '조회된 데이타가 없습니다.'}\n"
     ]
    },
    {
     "data": {
      "text/html": [
       "<div>\n",
       "<style scoped>\n",
       "    .dataframe tbody tr th:only-of-type {\n",
       "        vertical-align: middle;\n",
       "    }\n",
       "\n",
       "    .dataframe tbody tr th {\n",
       "        vertical-align: top;\n",
       "    }\n",
       "\n",
       "    .dataframe thead th {\n",
       "        text-align: right;\n",
       "    }\n",
       "</style>\n",
       "<table border=\"1\" class=\"dataframe\">\n",
       "  <thead>\n",
       "    <tr style=\"text-align: right;\">\n",
       "      <th></th>\n",
       "    </tr>\n",
       "  </thead>\n",
       "  <tbody>\n",
       "  </tbody>\n",
       "</table>\n",
       "</div>"
      ],
      "text/plain": [
       "Empty DataFrame\n",
       "Columns: []\n",
       "Index: []"
      ]
     },
     "execution_count": 17,
     "metadata": {},
     "output_type": "execute_result"
    }
   ],
   "source": [
    "dart.event('01615845', '전환사채발행')"
   ]
  },
  {
   "cell_type": "code",
   "execution_count": null,
   "id": "4f2c98c0-561d-4eb9-bbbc-58c468fd1b0f",
   "metadata": {},
   "outputs": [],
   "source": []
  },
  {
   "cell_type": "code",
   "execution_count": null,
   "id": "2c3ad974-cd1b-417f-a763-fdf1b07d53f2",
   "metadata": {},
   "outputs": [],
   "source": []
  }
 ],
 "metadata": {
  "kernelspec": {
   "display_name": "Python 3 (ipykernel)",
   "language": "python",
   "name": "python3"
  },
  "language_info": {
   "codemirror_mode": {
    "name": "ipython",
    "version": 3
   },
   "file_extension": ".py",
   "mimetype": "text/x-python",
   "name": "python",
   "nbconvert_exporter": "python",
   "pygments_lexer": "ipython3",
   "version": "3.9.13"
  }
 },
 "nbformat": 4,
 "nbformat_minor": 5
}
