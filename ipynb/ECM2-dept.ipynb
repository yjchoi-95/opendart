{
 "cells": [
  {
   "cell_type": "markdown",
   "id": "8c8942de-0da7-4d1c-9b9a-c5ee32614b81",
   "metadata": {},
   "source": [
    "## Import"
   ]
  },
  {
   "cell_type": "code",
   "execution_count": 1,
   "id": "a9b7ce56-b502-479c-af72-45e8a80790b2",
   "metadata": {},
   "outputs": [],
   "source": [
    "from tqdm import tqdm\n",
    "\n",
    "import streamlit as st\n",
    "import pandas as pd\n",
    "import numpy as np\n",
    "import OpenDartReader\n",
    "import warnings\n",
    "import dart_fss\n",
    "import time\n",
    "import re, os\n",
    "\n",
    "warnings.filterwarnings('ignore')"
   ]
  },
  {
   "cell_type": "code",
   "execution_count": 20,
   "id": "d6010606-d23b-47df-962d-b6bb26828efd",
   "metadata": {},
   "outputs": [],
   "source": [
    "f = open(\"requirements.txt\", 'w')\n",
    "f.write('streamlit==1.20.0\\n')\n",
    "f.write(\"streamlit_option_menu==0.3.2\\n\")\n",
    "f.write(\"pandas==1.3.4\\n\")\n",
    "f.write(\"numpy==1.21.6\\n\")\n",
    "f.write(\"OpenDartReader==0.2.1\\n\")\n",
    "f.write(\"dart_fss==0.4.2\\n\")\n",
    "f.close()"
   ]
  },
  {
   "cell_type": "code",
   "execution_count": 6,
   "id": "ef0e5ed1-fb38-4b5d-b751-3ece9a80f097",
   "metadata": {
    "tags": []
   },
   "outputs": [],
   "source": [
    "data_path = os.getcwd() + \"\\\\datasets\\\\\"\n",
    "\n",
    "if not os.path.isdir(data_path):\n",
    "    os.mkdir(data_path)\n",
    "    \n",
    "# load data\n",
    "def read_xlsx(name):\n",
    "    import xlwings as xw\n",
    "    instance = xw.App(visible=False)\n",
    "    xlsx_data = xw.Book(name).sheets[0]\n",
    "    df = xlsx_data.range('A1').options(pd.DataFrame, index = False, expand = 'table').value\n",
    "    instance.quit()\n",
    "    instance.kill()\n",
    "    return df\n",
    "\n",
    "from glob import glob\n",
    "\n",
    "for file in glob(data_path + \"*.xlsx\"):\n",
    "    temp_df = read_xlsx(file)\n",
    "    temp_df.to_csv(data_path + file.split(\"\\\\\")[-1].replace(\".xlsx\", \"\") + \"-사업보고서.csv\", index = False, encoding = \"CP949\")"
   ]
  },
  {
   "cell_type": "code",
   "execution_count": null,
   "id": "efdd8a12-76b0-4939-bf7d-13d8ff681c48",
   "metadata": {},
   "outputs": [],
   "source": []
  },
  {
   "cell_type": "markdown",
   "id": "9b1d5201-8b85-4822-8d17-cc5eb4a7a112",
   "metadata": {},
   "source": [
    "* functions"
   ]
  },
  {
   "cell_type": "code",
   "execution_count": 2,
   "id": "6f9cc3b1-1467-4a96-bf95-30abf87ad1ef",
   "metadata": {},
   "outputs": [],
   "source": [
    "def get_data(dart, code, year = 2022, quarter = \"사업보고서\"):\n",
    "    select_cols = ['corp_cls', 'corp_code', 'corp_name', 'inv_prm', 'frst_acqs_de', 'invstmnt_purps', 'frst_acqs_amount', 'trmend_blce_qy', 'trmend_blce_qota_rt', 'trmend_blce_acntbk_amount']\n",
    "    change_cols = ['법인구분', '고유번호', '회사명', '법인명', '최초취득일자', '출자목적', '최초취득금액', '기말잔액수량', '기말잔액지분율', '기말잔액장부가액']\n",
    "    change_cls = {\"Y\":\"유가\", \"K\":\"코스닥\", \"N\":\"코넥스\", \"E\":\"기타\"}\n",
    "    \n",
    "    change_dict = {\"1분기보고서\": 11013, \"반기보고서\": 11012, \"3분기보고서\": 11014, \"사업보고서\":11011}\n",
    "    r_code = change_dict[quarter]\n",
    "    \n",
    "    invst_df = dart.report(code, '타법인출자', year, r_code)\n",
    "    \n",
    "    if invst_df.shape[0] == 0:\n",
    "        return invst_df\n",
    "    else:\n",
    "        invst_df = invst_df.loc[:, select_cols]\n",
    "        invst_df.corp_cls = invst_df.corp_cls.map(change_cls)\n",
    "        invst_df.columns = change_cols\n",
    "    \n",
    "        return invst_df"
   ]
  },
  {
   "cell_type": "code",
   "execution_count": null,
   "id": "0a30068d-7d3e-4970-be68-f91e7c61d4b4",
   "metadata": {},
   "outputs": [],
   "source": []
  },
  {
   "cell_type": "markdown",
   "id": "4e39f977-ed27-4919-99c0-6b9733e4e479",
   "metadata": {},
   "source": [
    "* API Setting"
   ]
  },
  {
   "cell_type": "code",
   "execution_count": 3,
   "id": "9a871994-8b80-4c29-af8f-4050f6561f5b",
   "metadata": {},
   "outputs": [
    {
     "data": {
      "text/plain": [
       "'1b39652cef07f626c9d37375edf582ee51b1407f'"
      ]
     },
     "execution_count": 3,
     "metadata": {},
     "output_type": "execute_result"
    }
   ],
   "source": [
    "api_key = '1b39652cef07f626c9d37375edf582ee51b1407f'\n",
    "dart = OpenDartReader(api_key)\n",
    "dart_fss.set_api_key(api_key=api_key)"
   ]
  },
  {
   "cell_type": "code",
   "execution_count": null,
   "id": "21a7b56f-f227-4613-b169-5e0e3afbc403",
   "metadata": {},
   "outputs": [],
   "source": []
  },
  {
   "cell_type": "markdown",
   "id": "207b7c2c-92c3-4bed-b983-41f5afb15b11",
   "metadata": {},
   "source": [
    "* get total corp list"
   ]
  },
  {
   "cell_type": "code",
   "execution_count": 4,
   "id": "330c767a-e3a3-43df-a95f-99389ffa0ab0",
   "metadata": {},
   "outputs": [
    {
     "data": {
      "application/vnd.jupyter.widget-view+json": {
       "model_id": "ffe2d3797863451e9f1bf5781142a137",
       "version_major": 2,
       "version_minor": 0
      },
      "text/plain": [
       "Output()"
      ]
     },
     "metadata": {},
     "output_type": "display_data"
    }
   ],
   "source": [
    "corp_dict = dart_fss.api.filings.get_corp_code()\n",
    "corp_df = pd.DataFrame(corp_dict)\n",
    "corp_df = corp_df.loc[corp_df.stock_code.notnull()]\n",
    "corp_df.index = [x for x in range(corp_df.shape[0])]"
   ]
  },
  {
   "cell_type": "code",
   "execution_count": 5,
   "id": "5087f850-c455-41e4-a7fb-fe0b1d7c1a1f",
   "metadata": {},
   "outputs": [
    {
     "data": {
      "text/html": [
       "<div>\n",
       "<style scoped>\n",
       "    .dataframe tbody tr th:only-of-type {\n",
       "        vertical-align: middle;\n",
       "    }\n",
       "\n",
       "    .dataframe tbody tr th {\n",
       "        vertical-align: top;\n",
       "    }\n",
       "\n",
       "    .dataframe thead th {\n",
       "        text-align: right;\n",
       "    }\n",
       "</style>\n",
       "<table border=\"1\" class=\"dataframe\">\n",
       "  <thead>\n",
       "    <tr style=\"text-align: right;\">\n",
       "      <th></th>\n",
       "      <th>corp_code</th>\n",
       "      <th>corp_name</th>\n",
       "      <th>stock_code</th>\n",
       "      <th>modify_date</th>\n",
       "    </tr>\n",
       "  </thead>\n",
       "  <tbody>\n",
       "    <tr>\n",
       "      <th>0</th>\n",
       "      <td>00260985</td>\n",
       "      <td>한빛네트</td>\n",
       "      <td>036720</td>\n",
       "      <td>20170630</td>\n",
       "    </tr>\n",
       "    <tr>\n",
       "      <th>1</th>\n",
       "      <td>00264529</td>\n",
       "      <td>엔플렉스</td>\n",
       "      <td>040130</td>\n",
       "      <td>20170630</td>\n",
       "    </tr>\n",
       "    <tr>\n",
       "      <th>2</th>\n",
       "      <td>00358545</td>\n",
       "      <td>동서정보기술</td>\n",
       "      <td>055000</td>\n",
       "      <td>20170630</td>\n",
       "    </tr>\n",
       "    <tr>\n",
       "      <th>3</th>\n",
       "      <td>00231567</td>\n",
       "      <td>애드모바일</td>\n",
       "      <td>032600</td>\n",
       "      <td>20170630</td>\n",
       "    </tr>\n",
       "    <tr>\n",
       "      <th>4</th>\n",
       "      <td>00247939</td>\n",
       "      <td>씨모스</td>\n",
       "      <td>037600</td>\n",
       "      <td>20170630</td>\n",
       "    </tr>\n",
       "    <tr>\n",
       "      <th>...</th>\n",
       "      <td>...</td>\n",
       "      <td>...</td>\n",
       "      <td>...</td>\n",
       "      <td>...</td>\n",
       "    </tr>\n",
       "    <tr>\n",
       "      <th>3563</th>\n",
       "      <td>00413417</td>\n",
       "      <td>우리손에프앤지</td>\n",
       "      <td>073560</td>\n",
       "      <td>20230403</td>\n",
       "    </tr>\n",
       "    <tr>\n",
       "      <th>3564</th>\n",
       "      <td>00440712</td>\n",
       "      <td>어반리튬</td>\n",
       "      <td>073570</td>\n",
       "      <td>20230403</td>\n",
       "    </tr>\n",
       "    <tr>\n",
       "      <th>3565</th>\n",
       "      <td>00483735</td>\n",
       "      <td>해성옵틱스</td>\n",
       "      <td>076610</td>\n",
       "      <td>20230403</td>\n",
       "    </tr>\n",
       "    <tr>\n",
       "      <th>3566</th>\n",
       "      <td>00516246</td>\n",
       "      <td>알에프세미</td>\n",
       "      <td>096610</td>\n",
       "      <td>20230403</td>\n",
       "    </tr>\n",
       "    <tr>\n",
       "      <th>3567</th>\n",
       "      <td>00525679</td>\n",
       "      <td>차바이오텍</td>\n",
       "      <td>085660</td>\n",
       "      <td>20230403</td>\n",
       "    </tr>\n",
       "  </tbody>\n",
       "</table>\n",
       "<p>3568 rows × 4 columns</p>\n",
       "</div>"
      ],
      "text/plain": [
       "     corp_code corp_name stock_code modify_date\n",
       "0     00260985      한빛네트     036720    20170630\n",
       "1     00264529      엔플렉스     040130    20170630\n",
       "2     00358545    동서정보기술     055000    20170630\n",
       "3     00231567     애드모바일     032600    20170630\n",
       "4     00247939       씨모스     037600    20170630\n",
       "...        ...       ...        ...         ...\n",
       "3563  00413417   우리손에프앤지     073560    20230403\n",
       "3564  00440712      어반리튬     073570    20230403\n",
       "3565  00483735     해성옵틱스     076610    20230403\n",
       "3566  00516246     알에프세미     096610    20230403\n",
       "3567  00525679     차바이오텍     085660    20230403\n",
       "\n",
       "[3568 rows x 4 columns]"
      ]
     },
     "execution_count": 5,
     "metadata": {},
     "output_type": "execute_result"
    }
   ],
   "source": [
    "corp_df"
   ]
  },
  {
   "cell_type": "code",
   "execution_count": 8,
   "id": "4f687dbd-29cd-433d-bdbe-e480077bf162",
   "metadata": {},
   "outputs": [
    {
     "data": {
      "text/plain": [
       "[2018, 2019, 2020, 2021, 2022]"
      ]
     },
     "execution_count": 8,
     "metadata": {},
     "output_type": "execute_result"
    }
   ],
   "source": [
    "year_list = [x for x in range(2015, 2023)]; year_list\n",
    "#year_list = [x for x in range(2018, 2023)]; year_list"
   ]
  },
  {
   "cell_type": "code",
   "execution_count": 9,
   "id": "7c469664-2fa2-416a-a67e-e533aaed028b",
   "metadata": {},
   "outputs": [],
   "source": [
    "change_dict = {\"1분기보고서\": 11013, \"반기보고서\": 11012, \"3분기보고서\": 11014, \"사업보고서\": 11011}"
   ]
  },
  {
   "cell_type": "code",
   "execution_count": null,
   "id": "0c0e7449-8d9b-4c81-884a-45b149f77161",
   "metadata": {},
   "outputs": [],
   "source": []
  },
  {
   "cell_type": "markdown",
   "id": "e033c299-9b87-409f-a30e-2fb495090454",
   "metadata": {},
   "source": [
    "* 전체 연도"
   ]
  },
  {
   "cell_type": "code",
   "execution_count": null,
   "id": "8cf8e9b2-3d52-4e9d-bf4e-8e8ed9ae3bd9",
   "metadata": {},
   "outputs": [],
   "source": [
    "r_code = '사업보고서'"
   ]
  },
  {
   "cell_type": "code",
   "execution_count": null,
   "id": "61caf02f-d429-4463-af88-4aff83421ec2",
   "metadata": {
    "tags": []
   },
   "outputs": [],
   "source": [
    "cnt = 0\n",
    "t_cnt = 0\n",
    "pass_list = []\n",
    "\n",
    "for year in year_list:\n",
    "    start_time = time.time()\n",
    "\n",
    "    for code in corp_df.corp_code.unique():\n",
    "        try:\n",
    "            temp_df = get_data(dart, code, year, r_code)\n",
    "\n",
    "            if temp_df.shape[0] == 0:\n",
    "                pass_list.append(code)\n",
    "                time.sleep(0.6)\n",
    "                t_cnt += 1\n",
    "                continue\n",
    "\n",
    "            elif (temp_df.shape[0] != 0) & (cnt == 0):\n",
    "                output_df = get_data(dart, code, year, r_code)\n",
    "            else:\n",
    "                output_df = output_df.append(get_data(dart, code, year, r_code))\n",
    "\n",
    "            cnt += 1\n",
    "            t_cnt += 1\n",
    "            time.sleep(0.6)\n",
    "\n",
    "        except:\n",
    "            time.sleep(20)\n",
    "            temp_df = get_data(dart, code, year, r_code)\n",
    "\n",
    "            if temp_df.shape[0] == 0:\n",
    "                pass_list.append(code)\n",
    "                time.sleep(0.6)\n",
    "                t_cnt += 1\n",
    "                continue\n",
    "\n",
    "            elif (temp_df.shape[0] != 0) & (cnt == 0):\n",
    "                output_df = get_data(dart, code, year, r_code)\n",
    "            else:\n",
    "                output_df = output_df.append(get_data(dart, code, year, r_code))\n",
    "\n",
    "            cnt += 1\n",
    "            t_cnt += 1\n",
    "            time.sleep(0.6)\n",
    "            \n",
    "    save_df = output_df.loc[(output_df['출자목적'] == '단순투자') & (output_df['법인명'].isin(list(corp_df.corp_name.unique())))]\n",
    "    save_df.to_excel(\"ECM_타법인출자-단순투자-{}.xlsx\".format(year), index = False, encoding = 'CP949')"
   ]
  },
  {
   "cell_type": "code",
   "execution_count": null,
   "id": "47972be2-4342-4564-8e76-01f6dedaf295",
   "metadata": {},
   "outputs": [],
   "source": [
    "output_df.drop_duplicates().loc[(output_df['출자목적'] == '단순투자') & (output_df['법인명'].isin(list(corp_df.corp_name.unique())))].to_excel(\"ECM_타법인출자-단순투자-2017.xlsx\", index = False, encoding = 'CP949')"
   ]
  },
  {
   "cell_type": "code",
   "execution_count": null,
   "id": "e2d25bbc-807b-4230-8adf-b9bb7cc3af3b",
   "metadata": {},
   "outputs": [],
   "source": [
    "end_time = time.time()\n",
    "print(end_time - start_time)"
   ]
  },
  {
   "cell_type": "code",
   "execution_count": null,
   "id": "b959d54c-044c-4972-9000-5bc1e7714158",
   "metadata": {},
   "outputs": [],
   "source": [
    "save_df = output_df.loc[(output_df['출자목적'] == '단순투자') & (output_df['법인명'].isin(list(corp_df.corp_name.unique())))]\n",
    "save_df.to_excel(\"ECM_타법인출자-단순투자-total.xlsx\", index = False, encoding = 'CP949')"
   ]
  },
  {
   "cell_type": "code",
   "execution_count": null,
   "id": "5b390950-7e56-4ca9-b34c-6d708d64aec2",
   "metadata": {},
   "outputs": [],
   "source": []
  },
  {
   "cell_type": "markdown",
   "id": "d8c05607-5fb3-4146-85ff-91a9ea0249ea",
   "metadata": {},
   "source": [
    "* 특정 연도"
   ]
  },
  {
   "cell_type": "code",
   "execution_count": 67,
   "id": "5d43ae3b-8c87-4c9f-aaf5-e93589bb4987",
   "metadata": {},
   "outputs": [],
   "source": [
    "year = 2015\n",
    "r_code = '1분기보고서'"
   ]
  },
  {
   "cell_type": "code",
   "execution_count": null,
   "id": "487d02c2-7ca1-4f9a-bc8b-9780334e40d6",
   "metadata": {
    "tags": []
   },
   "outputs": [],
   "source": [
    "start_time = time.time()\n",
    "cnt = 0\n",
    "t_cnt = 0\n",
    "pass_list = []\n",
    "\n",
    "for code in corp_df.corp_code.unique():\n",
    "    try:\n",
    "        temp_df = get_data(dart, code, year, r_code)\n",
    "\n",
    "        if temp_df.shape[0] == 0:\n",
    "            pass_list.append(code)\n",
    "            time.sleep(0.6)\n",
    "            t_cnt += 1\n",
    "            continue\n",
    "\n",
    "        elif (temp_df.shape[0] != 0) & (cnt == 0):\n",
    "            output_df = get_data(dart, code, year, r_code)\n",
    "        else:\n",
    "            output_df = output_df.append(get_data(dart, code, year, r_code))\n",
    "\n",
    "        cnt += 1\n",
    "        t_cnt += 1\n",
    "        time.sleep(0.6)\n",
    "        \n",
    "    except:\n",
    "        time.sleep(10)\n",
    "        temp_df = get_data(dart, code, year, r_code)\n",
    "\n",
    "        if temp_df.shape[0] == 0:\n",
    "            pass_list.append(code)\n",
    "            time.sleep(0.6)\n",
    "            t_cnt += 1\n",
    "            continue\n",
    "\n",
    "        elif (temp_df.shape[0] != 0) & (cnt == 0):\n",
    "            output_df = get_data(dart, code, year, r_code)\n",
    "        else:\n",
    "            output_df = output_df.append(get_data(dart, code, year, r_code))\n",
    "\n",
    "        cnt += 1\n",
    "        t_cnt += 1\n",
    "        time.sleep(0.6)"
   ]
  },
  {
   "cell_type": "code",
   "execution_count": null,
   "id": "6a9e2845-daf0-4f2c-b7b7-0ab4479a0c0f",
   "metadata": {},
   "outputs": [],
   "source": [
    "end_time = time.time()\n",
    "print(end_time - start_time)"
   ]
  },
  {
   "cell_type": "code",
   "execution_count": 65,
   "id": "56ffbdb0-a48c-473f-9c0b-214dc21897e3",
   "metadata": {},
   "outputs": [],
   "source": [
    "output_df.loc[(output_df['출자목적'] == '단순투자') & (output_df['법인명'].isin(list(corp_df.corp_name.unique())))].to_excel(\"ECM_타법인출자-단순투자-2021.xlsx\", index = False, encoding = 'CP949')"
   ]
  },
  {
   "cell_type": "code",
   "execution_count": 32,
   "id": "4d83fa0d-8547-41b6-b229-081a57cccae8",
   "metadata": {},
   "outputs": [
    {
     "data": {
      "text/plain": [
       "1.2368055555555555"
      ]
     },
     "execution_count": 32,
     "metadata": {},
     "output_type": "execute_result"
    }
   ],
   "source": [
    "# 소요 시간\n",
    "corp_df.corp_code.unique().shape[0] * 1.25 /3600"
   ]
  },
  {
   "cell_type": "code",
   "execution_count": 71,
   "id": "f7a9e2d5-22b7-4c09-b1ac-84fc02badca5",
   "metadata": {},
   "outputs": [],
   "source": [
    "df = pd.read_excel(\"ECM_타법인출자-단순투자-2021.xlsx\")"
   ]
  },
  {
   "cell_type": "code",
   "execution_count": 75,
   "id": "e0a384cb-9cbe-4da8-8f2d-505f8c6de358",
   "metadata": {},
   "outputs": [
    {
     "data": {
      "text/plain": [
       "62"
      ]
     },
     "execution_count": 75,
     "metadata": {},
     "output_type": "execute_result"
    }
   ],
   "source": [
    "corp_df.shape[0] - 3500"
   ]
  },
  {
   "cell_type": "code",
   "execution_count": null,
   "id": "07cdba85-7699-4a28-a709-27dff4ce61c9",
   "metadata": {},
   "outputs": [],
   "source": [
    "a = 0\n",
    "for code in corp_df.corp_code.unique()[3500:]:\n",
    "    a += 1\n",
    "    print(a)\n",
    "    "
   ]
  },
  {
   "cell_type": "code",
   "execution_count": 72,
   "id": "5af0afc0-8d51-4fcd-9342-d4e3b3ee3ca6",
   "metadata": {},
   "outputs": [
    {
     "data": {
      "text/html": [
       "<div>\n",
       "<style scoped>\n",
       "    .dataframe tbody tr th:only-of-type {\n",
       "        vertical-align: middle;\n",
       "    }\n",
       "\n",
       "    .dataframe tbody tr th {\n",
       "        vertical-align: top;\n",
       "    }\n",
       "\n",
       "    .dataframe thead th {\n",
       "        text-align: right;\n",
       "    }\n",
       "</style>\n",
       "<table border=\"1\" class=\"dataframe\">\n",
       "  <thead>\n",
       "    <tr style=\"text-align: right;\">\n",
       "      <th></th>\n",
       "      <th>법인구분</th>\n",
       "      <th>고유번호</th>\n",
       "      <th>회사명</th>\n",
       "      <th>법인명</th>\n",
       "      <th>최초취득일자</th>\n",
       "      <th>출자목적</th>\n",
       "      <th>최초취득금액</th>\n",
       "      <th>기말잔액수량</th>\n",
       "      <th>기말잔액지분율</th>\n",
       "      <th>기말잔액장부가액</th>\n",
       "    </tr>\n",
       "  </thead>\n",
       "  <tbody>\n",
       "    <tr>\n",
       "      <th>0</th>\n",
       "      <td>코스닥</td>\n",
       "      <td>132992</td>\n",
       "      <td>성우하이텍</td>\n",
       "      <td>현대제철</td>\n",
       "      <td>-</td>\n",
       "      <td>단순투자</td>\n",
       "      <td>34,380,000,000</td>\n",
       "      <td>433,808</td>\n",
       "      <td>0.33</td>\n",
       "      <td>17,786,000,000</td>\n",
       "    </tr>\n",
       "    <tr>\n",
       "      <th>1</th>\n",
       "      <td>코스닥</td>\n",
       "      <td>132992</td>\n",
       "      <td>성우하이텍</td>\n",
       "      <td>KNN</td>\n",
       "      <td>-</td>\n",
       "      <td>단순투자</td>\n",
       "      <td>8,662,000,000</td>\n",
       "      <td>7,355,570</td>\n",
       "      <td>5.55</td>\n",
       "      <td>10,188,000,000</td>\n",
       "    </tr>\n",
       "    <tr>\n",
       "      <th>2</th>\n",
       "      <td>유가</td>\n",
       "      <td>1234297</td>\n",
       "      <td>미원에스씨</td>\n",
       "      <td>KPX케미칼</td>\n",
       "      <td>2020.10.07</td>\n",
       "      <td>단순투자</td>\n",
       "      <td>28,000,000</td>\n",
       "      <td>32,777</td>\n",
       "      <td>0.68</td>\n",
       "      <td>1,757,000,000</td>\n",
       "    </tr>\n",
       "    <tr>\n",
       "      <th>3</th>\n",
       "      <td>유가</td>\n",
       "      <td>1234297</td>\n",
       "      <td>미원에스씨</td>\n",
       "      <td>롯데정밀화학</td>\n",
       "      <td>2020.11.03</td>\n",
       "      <td>단순투자</td>\n",
       "      <td>24,000,000</td>\n",
       "      <td>0</td>\n",
       "      <td>0.00</td>\n",
       "      <td>0</td>\n",
       "    </tr>\n",
       "    <tr>\n",
       "      <th>4</th>\n",
       "      <td>유가</td>\n",
       "      <td>1234297</td>\n",
       "      <td>미원에스씨</td>\n",
       "      <td>대덕</td>\n",
       "      <td>2020.11.16</td>\n",
       "      <td>단순투자</td>\n",
       "      <td>58,000,000</td>\n",
       "      <td>323,454</td>\n",
       "      <td>0.95</td>\n",
       "      <td>2,607,000,000</td>\n",
       "    </tr>\n",
       "    <tr>\n",
       "      <th>...</th>\n",
       "      <td>...</td>\n",
       "      <td>...</td>\n",
       "      <td>...</td>\n",
       "      <td>...</td>\n",
       "      <td>...</td>\n",
       "      <td>...</td>\n",
       "      <td>...</td>\n",
       "      <td>...</td>\n",
       "      <td>...</td>\n",
       "      <td>...</td>\n",
       "    </tr>\n",
       "    <tr>\n",
       "      <th>395</th>\n",
       "      <td>코스닥</td>\n",
       "      <td>925587</td>\n",
       "      <td>위드텍</td>\n",
       "      <td>에이치엠씨제5호스팩</td>\n",
       "      <td>2021.05.12</td>\n",
       "      <td>단순투자</td>\n",
       "      <td>235,856,000</td>\n",
       "      <td>86,000</td>\n",
       "      <td>1.68</td>\n",
       "      <td>178,450,000</td>\n",
       "    </tr>\n",
       "    <tr>\n",
       "      <th>396</th>\n",
       "      <td>코스닥</td>\n",
       "      <td>925587</td>\n",
       "      <td>위드텍</td>\n",
       "      <td>DB금융스팩9호</td>\n",
       "      <td>2021.05.12</td>\n",
       "      <td>단순투자</td>\n",
       "      <td>213,721,000</td>\n",
       "      <td>80,000</td>\n",
       "      <td>1.65</td>\n",
       "      <td>167,600,000</td>\n",
       "    </tr>\n",
       "    <tr>\n",
       "      <th>397</th>\n",
       "      <td>코스닥</td>\n",
       "      <td>440712</td>\n",
       "      <td>어반리튬</td>\n",
       "      <td>LG전자</td>\n",
       "      <td>2021.02.24</td>\n",
       "      <td>단순투자</td>\n",
       "      <td>171,000,000</td>\n",
       "      <td>1,000</td>\n",
       "      <td>0.0006</td>\n",
       "      <td>138,000,000</td>\n",
       "    </tr>\n",
       "    <tr>\n",
       "      <th>398</th>\n",
       "      <td>코스닥</td>\n",
       "      <td>440712</td>\n",
       "      <td>어반리튬</td>\n",
       "      <td>바이오니아</td>\n",
       "      <td>2021.09.27</td>\n",
       "      <td>단순투자</td>\n",
       "      <td>158,000,000</td>\n",
       "      <td>2,000</td>\n",
       "      <td>0.0077</td>\n",
       "      <td>97,000,000</td>\n",
       "    </tr>\n",
       "    <tr>\n",
       "      <th>399</th>\n",
       "      <td>코스닥</td>\n",
       "      <td>440712</td>\n",
       "      <td>어반리튬</td>\n",
       "      <td>삼성전자</td>\n",
       "      <td>2021.02.04</td>\n",
       "      <td>단순투자</td>\n",
       "      <td>84,000,000</td>\n",
       "      <td>3,000</td>\n",
       "      <td>0.0019</td>\n",
       "      <td>235,000,000</td>\n",
       "    </tr>\n",
       "  </tbody>\n",
       "</table>\n",
       "<p>400 rows × 10 columns</p>\n",
       "</div>"
      ],
      "text/plain": [
       "    법인구분     고유번호    회사명         법인명      최초취득일자  출자목적          최초취득금액  \\\n",
       "0    코스닥   132992  성우하이텍        현대제철           -  단순투자  34,380,000,000   \n",
       "1    코스닥   132992  성우하이텍         KNN           -  단순투자   8,662,000,000   \n",
       "2     유가  1234297  미원에스씨      KPX케미칼  2020.10.07  단순투자      28,000,000   \n",
       "3     유가  1234297  미원에스씨      롯데정밀화학  2020.11.03  단순투자      24,000,000   \n",
       "4     유가  1234297  미원에스씨          대덕  2020.11.16  단순투자      58,000,000   \n",
       "..   ...      ...    ...         ...         ...   ...             ...   \n",
       "395  코스닥   925587    위드텍  에이치엠씨제5호스팩  2021.05.12  단순투자     235,856,000   \n",
       "396  코스닥   925587    위드텍    DB금융스팩9호  2021.05.12  단순투자     213,721,000   \n",
       "397  코스닥   440712   어반리튬        LG전자  2021.02.24  단순투자     171,000,000   \n",
       "398  코스닥   440712   어반리튬       바이오니아  2021.09.27  단순투자     158,000,000   \n",
       "399  코스닥   440712   어반리튬        삼성전자  2021.02.04  단순투자      84,000,000   \n",
       "\n",
       "        기말잔액수량 기말잔액지분율        기말잔액장부가액  \n",
       "0      433,808    0.33  17,786,000,000  \n",
       "1    7,355,570    5.55  10,188,000,000  \n",
       "2       32,777    0.68   1,757,000,000  \n",
       "3            0    0.00               0  \n",
       "4      323,454    0.95   2,607,000,000  \n",
       "..         ...     ...             ...  \n",
       "395     86,000    1.68     178,450,000  \n",
       "396     80,000    1.65     167,600,000  \n",
       "397      1,000  0.0006     138,000,000  \n",
       "398      2,000  0.0077      97,000,000  \n",
       "399      3,000  0.0019     235,000,000  \n",
       "\n",
       "[400 rows x 10 columns]"
      ]
     },
     "execution_count": 72,
     "metadata": {},
     "output_type": "execute_result"
    }
   ],
   "source": [
    "df"
   ]
  },
  {
   "cell_type": "code",
   "execution_count": null,
   "id": "4f5892e9-151c-44e0-8115-13c753217b14",
   "metadata": {},
   "outputs": [],
   "source": []
  }
 ],
 "metadata": {
  "kernelspec": {
   "display_name": "Python 3 (ipykernel)",
   "language": "python",
   "name": "python3"
  },
  "language_info": {
   "codemirror_mode": {
    "name": "ipython",
    "version": 3
   },
   "file_extension": ".py",
   "mimetype": "text/x-python",
   "name": "python",
   "nbconvert_exporter": "python",
   "pygments_lexer": "ipython3",
   "version": "3.9.13"
  }
 },
 "nbformat": 4,
 "nbformat_minor": 5
}
