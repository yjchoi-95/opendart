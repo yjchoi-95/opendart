{
 "cells": [
  {
   "cell_type": "markdown",
   "id": "8c8942de-0da7-4d1c-9b9a-c5ee32614b81",
   "metadata": {},
   "source": [
    "## Import"
   ]
  },
  {
   "cell_type": "code",
   "execution_count": 1,
   "id": "a9b7ce56-b502-479c-af72-45e8a80790b2",
   "metadata": {},
   "outputs": [],
   "source": [
    "from tqdm import tqdm\n",
    "\n",
    "import streamlit as st\n",
    "import pandas as pd\n",
    "import numpy as np\n",
    "import OpenDartReader\n",
    "import warnings\n",
    "import dart_fss\n",
    "import time\n",
    "import re, os\n",
    "\n",
    "warnings.filterwarnings('ignore')"
   ]
  },
  {
   "cell_type": "code",
   "execution_count": null,
   "id": "49943ffb-e535-4cd5-8029-e4d5577c6968",
   "metadata": {},
   "outputs": [],
   "source": []
  },
  {
   "cell_type": "markdown",
   "id": "9b1d5201-8b85-4822-8d17-cc5eb4a7a112",
   "metadata": {},
   "source": [
    "* functions"
   ]
  },
  {
   "cell_type": "code",
   "execution_count": 2,
   "id": "6f9cc3b1-1467-4a96-bf95-30abf87ad1ef",
   "metadata": {},
   "outputs": [],
   "source": [
    "def get_data(dart, code, year = 2022, quarter = \"사업보고서\"):\n",
    "    select_cols = ['corp_cls', 'corp_code', 'corp_name', 'inv_prm', 'frst_acqs_de', 'invstmnt_purps', 'frst_acqs_amount', 'trmend_blce_qy', 'trmend_blce_qota_rt', 'trmend_blce_acntbk_amount']\n",
    "    change_cols = ['법인구분', '고유번호', '회사명', '법인명', '최초취득일자', '출자목적', '최초취득금액', '기말잔액수량', '기말잔액지분율', '기말잔액장부가액']\n",
    "    change_cls = {\"Y\":\"유가\", \"K\":\"코스닥\", \"N\":\"코넥스\", \"E\":\"기타\"}\n",
    "    \n",
    "    change_dict = {\"1분기보고서\": 11013, \"반기보고서\": 11012, \"3분기보고서\": 11014, \"사업보고서\":11011}\n",
    "    r_code = change_dict[quarter]\n",
    "    \n",
    "    invst_df = dart.report(code, '타법인출자', year, r_code)\n",
    "    \n",
    "    if invst_df.shape[0] == 0:\n",
    "        return invst_df\n",
    "    else:\n",
    "        invst_df = invst_df.loc[:, select_cols]\n",
    "        invst_df.corp_cls = invst_df.corp_cls.map(change_cls)\n",
    "        invst_df.columns = change_cols\n",
    "    \n",
    "        return invst_df"
   ]
  },
  {
   "cell_type": "code",
   "execution_count": null,
   "id": "0a30068d-7d3e-4970-be68-f91e7c61d4b4",
   "metadata": {},
   "outputs": [],
   "source": []
  },
  {
   "cell_type": "markdown",
   "id": "4e39f977-ed27-4919-99c0-6b9733e4e479",
   "metadata": {},
   "source": [
    "* API Setting"
   ]
  },
  {
   "cell_type": "code",
   "execution_count": 3,
   "id": "9a871994-8b80-4c29-af8f-4050f6561f5b",
   "metadata": {},
   "outputs": [
    {
     "data": {
      "text/plain": [
       "'f54ffa528f132c33a392456a76438073353fa2b5'"
      ]
     },
     "execution_count": 3,
     "metadata": {},
     "output_type": "execute_result"
    }
   ],
   "source": [
    "api_key = 'f54ffa528f132c33a392456a76438073353fa2b5'\n",
    "dart = OpenDartReader(api_key)\n",
    "dart_fss.set_api_key(api_key=api_key)"
   ]
  },
  {
   "cell_type": "code",
   "execution_count": null,
   "id": "21a7b56f-f227-4613-b169-5e0e3afbc403",
   "metadata": {},
   "outputs": [],
   "source": []
  },
  {
   "cell_type": "markdown",
   "id": "207b7c2c-92c3-4bed-b983-41f5afb15b11",
   "metadata": {},
   "source": [
    "* get total corp list"
   ]
  },
  {
   "cell_type": "code",
   "execution_count": 4,
   "id": "330c767a-e3a3-43df-a95f-99389ffa0ab0",
   "metadata": {},
   "outputs": [
    {
     "data": {
      "application/vnd.jupyter.widget-view+json": {
       "model_id": "b6f7fecf8e8141cdb39269c440fe75ac",
       "version_major": 2,
       "version_minor": 0
      },
      "text/plain": [
       "Output()"
      ]
     },
     "metadata": {},
     "output_type": "display_data"
    }
   ],
   "source": [
    "corp_dict = dart_fss.api.filings.get_corp_code()\n",
    "corp_df = pd.DataFrame(corp_dict)\n",
    "corp_df = corp_df.loc[corp_df.stock_code.notnull()]\n",
    "corp_df.index = [x for x in range(corp_df.shape[0])]"
   ]
  },
  {
   "cell_type": "code",
   "execution_count": 5,
   "id": "e42bae40-25fb-45bf-b53a-700a1ec5bc0e",
   "metadata": {},
   "outputs": [],
   "source": [
    "# C=발행공시, D=지분공시\n",
    "market_dict = {\"Y\": \"코스피\",\"K\": \"코스닥\", \"N\": \"코넥스\", \"E\": \"기타\"}\n",
    "q_dict = {\"1분기\": ['{}-01-01', '{}-03-31'],\n",
    "          \"2분기\": ['{}-04-01', '{}-06-30'],\n",
    "          \"3분기\": ['{}-07-01', '{}-09-30'],\n",
    "          \"4분기\": ['{}-10-01', '{}-12-31']}\n",
    "change_dict = {\"1분기보고서\": 11013, \"반기보고서\": 11012, \"3분기보고서\": 11014, \"사업보고서\":11011}\n",
    "year = 2021\n",
    "r_code = '사업보고서'"
   ]
  },
  {
   "cell_type": "code",
   "execution_count": 6,
   "id": "ebc0ecde-1724-4d56-97fd-9f1b5b58b6fc",
   "metadata": {
    "tags": []
   },
   "outputs": [],
   "source": [
    "loop_list = ['{}분기'.format(x) for x in range(1,5)]"
   ]
  },
  {
   "cell_type": "code",
   "execution_count": 7,
   "id": "35ac2d60-d45b-4b21-a120-6d41f51b934e",
   "metadata": {},
   "outputs": [],
   "source": [
    "for idx, q in enumerate(loop_list):\n",
    "    start_dt, end_dt = [x.format(year) for x in q_dict[q]]\n",
    "    \n",
    "    if r_code == \"사업보고서\":\n",
    "        temp_df = dart.list(start=start_dt, end=end_dt, kind_detail = 'A001') # 사업\n",
    "    elif r_code == \"반기보고서\":\n",
    "        temp_df = dart.list(start=start_dt, end=end_dt, kind_detail = 'A002') # 반기\n",
    "    else:\n",
    "        temp_df = dart.list(start=start_dt, end=end_dt, kind_detail = 'A003') # 분기\n",
    "    \n",
    "    if idx == 0:\n",
    "        info_df = temp_df\n",
    "    else:\n",
    "        info_df = pd.concat([info_df, temp_df])"
   ]
  },
  {
   "cell_type": "code",
   "execution_count": 8,
   "id": "037a4f78-1aa1-4f6f-81a0-4c7640b15de7",
   "metadata": {},
   "outputs": [],
   "source": [
    "corp_list = info_df.loc[info_df.corp_cls.isin(['Y', 'K', 'N'])].corp_name.unique()"
   ]
  },
  {
   "cell_type": "code",
   "execution_count": null,
   "id": "d71a87f1-1eee-47f3-b639-b0df657f2582",
   "metadata": {
    "tags": []
   },
   "outputs": [],
   "source": [
    "cnt = 0\n",
    "p_cnt = 0\n",
    "\n",
    "for corp in tqdm(corp_list):\n",
    "    temp_df = dart.report(corp, '타법인출자', year, change_dict[r_code])\n",
    "    p_cnt += 1\n",
    "    \n",
    "    if temp_df.shape[0] == 0:\n",
    "        continue\n",
    "        \n",
    "    elif cnt == 0 and temp_df.shape[0] != 1:\n",
    "        output = temp_df\n",
    "        cnt += 1\n",
    "        \n",
    "    else:\n",
    "        output = pd.concat([output, temp_df])"
   ]
  },
  {
   "cell_type": "code",
   "execution_count": 15,
   "id": "8da85408-4e34-4c73-b923-abfb576c37a3",
   "metadata": {},
   "outputs": [],
   "source": [
    "output.invstmnt_purps = [x.replace(\" \", \"\").replace(\"\\n\", \"\") for x in output.invstmnt_purps]\n",
    "final_df = output.loc[[True if \"단순\" == x or \"단순투자\" in x else False for x in output.invstmnt_purps], :]"
   ]
  },
  {
   "cell_type": "code",
   "execution_count": 16,
   "id": "b0912a20-40f3-4573-8327-3916a8b23be0",
   "metadata": {},
   "outputs": [
    {
     "data": {
      "text/plain": [
       "{'단순',\n",
       " '단순투자',\n",
       " '단순투자(RCPS)',\n",
       " '단순투자(보증서발급)',\n",
       " '단순투자(보통주)',\n",
       " '단순투자(보통주식)',\n",
       " '단순투자(사업관련)',\n",
       " '단순투자(신설법인지분참여)',\n",
       " '단순투자(전환사채)',\n",
       " '단순투자(중소.벤처기업발굴육성및투자)',\n",
       " '단순투자(펀드투자)',\n",
       " '단순투자:이행보증증권발급등',\n",
       " '단순투자등',\n",
       " '단순투자목적',\n",
       " '벤처투자조합출자(단순투자)',\n",
       " '수익창출을위한단순투자',\n",
       " '재무적투자(단순투자)',\n",
       " '지역사회발전도모(단순투자)',\n",
       " '투자(단순투자)',\n",
       " '협회가입(단순투자)'}"
      ]
     },
     "execution_count": 16,
     "metadata": {},
     "output_type": "execute_result"
    }
   ],
   "source": [
    "set([x for x in output.invstmnt_purps if \"단순\" == x or \"단순투자\" in x])"
   ]
  },
  {
   "cell_type": "code",
   "execution_count": 19,
   "id": "ed1bd36b-40f7-44d9-a978-7d41b3e4f6e6",
   "metadata": {},
   "outputs": [],
   "source": [
    "select_cols = ['corp_cls', 'corp_name', 'inv_prm', 'frst_acqs_de', 'invstmnt_purps', 'frst_acqs_amount', 'trmend_blce_qy', 'trmend_blce_qota_rt', 'trmend_blce_acntbk_amount']\n",
    "change_cols = ['법인구분', '회사명', '법인명', '최초취득일자', '출자목적', '최초취득금액', '기말잔액수량', '기말잔액지분율', '기말잔액장부가액']"
   ]
  },
  {
   "cell_type": "code",
   "execution_count": 12,
   "id": "99b4ae93-4cb3-4665-88af-f5dc80730df3",
   "metadata": {},
   "outputs": [
    {
     "data": {
      "text/html": [
       "<div>\n",
       "<style scoped>\n",
       "    .dataframe tbody tr th:only-of-type {\n",
       "        vertical-align: middle;\n",
       "    }\n",
       "\n",
       "    .dataframe tbody tr th {\n",
       "        vertical-align: top;\n",
       "    }\n",
       "\n",
       "    .dataframe thead th {\n",
       "        text-align: right;\n",
       "    }\n",
       "</style>\n",
       "<table border=\"1\" class=\"dataframe\">\n",
       "  <thead>\n",
       "    <tr style=\"text-align: right;\">\n",
       "      <th></th>\n",
       "      <th>법인구분</th>\n",
       "      <th>회사명</th>\n",
       "      <th>법인명</th>\n",
       "      <th>최초취득일자</th>\n",
       "      <th>출자목적</th>\n",
       "      <th>최초취득금액</th>\n",
       "      <th>기말잔액수량</th>\n",
       "      <th>기말잔액지분율</th>\n",
       "      <th>기말잔액장부가액</th>\n",
       "    </tr>\n",
       "  </thead>\n",
       "  <tbody>\n",
       "    <tr>\n",
       "      <th>2</th>\n",
       "      <td>코스닥</td>\n",
       "      <td>테라젠이텍스</td>\n",
       "      <td>비엘팜텍</td>\n",
       "      <td>2020.08.07</td>\n",
       "      <td>단순투자</td>\n",
       "      <td>1,495,000,000</td>\n",
       "      <td>305,623</td>\n",
       "      <td>0.34</td>\n",
       "      <td>191,000,000</td>\n",
       "    </tr>\n",
       "    <tr>\n",
       "      <th>3</th>\n",
       "      <td>코스닥</td>\n",
       "      <td>테라젠이텍스</td>\n",
       "      <td>에이플러스에셋</td>\n",
       "      <td>2016.06.22</td>\n",
       "      <td>단순투자</td>\n",
       "      <td>49,000,000</td>\n",
       "      <td>15,000</td>\n",
       "      <td>0.07</td>\n",
       "      <td>73,000,000</td>\n",
       "    </tr>\n",
       "    <tr>\n",
       "      <th>13</th>\n",
       "      <td>코스닥</td>\n",
       "      <td>테라젠이텍스</td>\n",
       "      <td>메드팩토</td>\n",
       "      <td>2013.07.01</td>\n",
       "      <td>단순투자</td>\n",
       "      <td>1,250,000,000</td>\n",
       "      <td>3,100,000</td>\n",
       "      <td>14.65</td>\n",
       "      <td>68,975,000,000</td>\n",
       "    </tr>\n",
       "  </tbody>\n",
       "</table>\n",
       "</div>"
      ],
      "text/plain": [
       "   법인구분     회사명      법인명      최초취득일자  출자목적         최초취득금액     기말잔액수량 기말잔액지분율  \\\n",
       "2   코스닥  테라젠이텍스     비엘팜텍  2020.08.07  단순투자  1,495,000,000    305,623    0.34   \n",
       "3   코스닥  테라젠이텍스  에이플러스에셋  2016.06.22  단순투자     49,000,000     15,000    0.07   \n",
       "13  코스닥  테라젠이텍스     메드팩토  2013.07.01  단순투자  1,250,000,000  3,100,000   14.65   \n",
       "\n",
       "          기말잔액장부가액  \n",
       "2      191,000,000  \n",
       "3       73,000,000  \n",
       "13  68,975,000,000  "
      ]
     },
     "execution_count": 12,
     "metadata": {},
     "output_type": "execute_result"
    }
   ],
   "source": [
    "save_df = final_df.loc[:, select_cols]\n",
    "save_df.columns = change_cols\n",
    "\n",
    "save_df['법인구분'] = save_df['법인구분'].map(market_dict)\n",
    "\n",
    "clean_txt = [re.sub(r'\\([^)]*\\)', '', x) for x in save_df['법인명']]\n",
    "clean_txt = [re.sub(\"㈜\", \"\", x) for x in clean_txt]\n",
    "clean_txt = [re.sub(\"\\s\", \"\", x) for x in clean_txt]\n",
    "save_df['법인명'] = clean_txt\n",
    "check = save_df.loc[save_df['법인명'].isin(list(corp_df.corp_name.unique()))]\n",
    "check.loc[check['회사명'] == '테라젠이텍스']"
   ]
  },
  {
   "cell_type": "code",
   "execution_count": 13,
   "id": "08f06bb1-90b8-4740-beb1-db2ef6bbae7b",
   "metadata": {},
   "outputs": [
    {
     "data": {
      "text/html": [
       "<div>\n",
       "<style scoped>\n",
       "    .dataframe tbody tr th:only-of-type {\n",
       "        vertical-align: middle;\n",
       "    }\n",
       "\n",
       "    .dataframe tbody tr th {\n",
       "        vertical-align: top;\n",
       "    }\n",
       "\n",
       "    .dataframe thead th {\n",
       "        text-align: right;\n",
       "    }\n",
       "</style>\n",
       "<table border=\"1\" class=\"dataframe\">\n",
       "  <thead>\n",
       "    <tr style=\"text-align: right;\">\n",
       "      <th></th>\n",
       "      <th>법인구분</th>\n",
       "      <th>회사명</th>\n",
       "      <th>법인명</th>\n",
       "      <th>최초취득일자</th>\n",
       "      <th>출자목적</th>\n",
       "      <th>최초취득금액</th>\n",
       "      <th>기말잔액수량</th>\n",
       "      <th>기말잔액지분율</th>\n",
       "      <th>기말잔액장부가액</th>\n",
       "    </tr>\n",
       "  </thead>\n",
       "  <tbody>\n",
       "    <tr>\n",
       "      <th>1</th>\n",
       "      <td>코스닥</td>\n",
       "      <td>아이즈비전</td>\n",
       "      <td>버킷스튜디오</td>\n",
       "      <td>2022.03.31</td>\n",
       "      <td>단순투자</td>\n",
       "      <td>5,000</td>\n",
       "      <td>1,000,000,000,000</td>\n",
       "      <td>1.19</td>\n",
       "      <td>1,620</td>\n",
       "    </tr>\n",
       "    <tr>\n",
       "      <th>8</th>\n",
       "      <td>코스닥</td>\n",
       "      <td>아이즈비전</td>\n",
       "      <td>위지트</td>\n",
       "      <td>2019.12.24</td>\n",
       "      <td>단순투자</td>\n",
       "      <td>4,928</td>\n",
       "      <td>7,920,517,000,000</td>\n",
       "      <td>7.69</td>\n",
       "      <td>4,919</td>\n",
       "    </tr>\n",
       "    <tr>\n",
       "      <th>0</th>\n",
       "      <td>코스피</td>\n",
       "      <td>삼양통상</td>\n",
       "      <td>BNK금융지주</td>\n",
       "      <td>2019.12.04</td>\n",
       "      <td>단순투자</td>\n",
       "      <td>854,000,000</td>\n",
       "      <td>-</td>\n",
       "      <td>-</td>\n",
       "      <td>-</td>\n",
       "    </tr>\n",
       "    <tr>\n",
       "      <th>1</th>\n",
       "      <td>코스피</td>\n",
       "      <td>삼양통상</td>\n",
       "      <td>덕산네오룩스</td>\n",
       "      <td>2021.11.15</td>\n",
       "      <td>단순투자</td>\n",
       "      <td>52,000,000</td>\n",
       "      <td>-</td>\n",
       "      <td>-</td>\n",
       "      <td>-</td>\n",
       "    </tr>\n",
       "    <tr>\n",
       "      <th>2</th>\n",
       "      <td>코스피</td>\n",
       "      <td>삼양통상</td>\n",
       "      <td>LG에너지솔루션</td>\n",
       "      <td>2022.05.06</td>\n",
       "      <td>단순투자</td>\n",
       "      <td>3,352,000,000</td>\n",
       "      <td>-</td>\n",
       "      <td>-</td>\n",
       "      <td>-</td>\n",
       "    </tr>\n",
       "    <tr>\n",
       "      <th>...</th>\n",
       "      <td>...</td>\n",
       "      <td>...</td>\n",
       "      <td>...</td>\n",
       "      <td>...</td>\n",
       "      <td>...</td>\n",
       "      <td>...</td>\n",
       "      <td>...</td>\n",
       "      <td>...</td>\n",
       "      <td>...</td>\n",
       "    </tr>\n",
       "    <tr>\n",
       "      <th>33</th>\n",
       "      <td>코스피</td>\n",
       "      <td>현대모비스</td>\n",
       "      <td>HDC</td>\n",
       "      <td>2005.05.20</td>\n",
       "      <td>단순투자</td>\n",
       "      <td>3,660,000,000</td>\n",
       "      <td>182,000</td>\n",
       "      <td>0</td>\n",
       "      <td>1,002,000,000</td>\n",
       "    </tr>\n",
       "    <tr>\n",
       "      <th>44</th>\n",
       "      <td>코스피</td>\n",
       "      <td>현대모비스</td>\n",
       "      <td>HDC현대산업개발</td>\n",
       "      <td>2018.06.12</td>\n",
       "      <td>단순투자</td>\n",
       "      <td>5,114,000,000</td>\n",
       "      <td>255,000</td>\n",
       "      <td>0</td>\n",
       "      <td>2,550,000,000</td>\n",
       "    </tr>\n",
       "    <tr>\n",
       "      <th>46</th>\n",
       "      <td>코스피</td>\n",
       "      <td>현대모비스</td>\n",
       "      <td>미디어젠</td>\n",
       "      <td>2009.06.25</td>\n",
       "      <td>단순투자</td>\n",
       "      <td>2,000,000</td>\n",
       "      <td>209,000</td>\n",
       "      <td>4</td>\n",
       "      <td>2,564,000,000</td>\n",
       "    </tr>\n",
       "    <tr>\n",
       "      <th>52</th>\n",
       "      <td>코스피</td>\n",
       "      <td>현대모비스</td>\n",
       "      <td>화승알앤에이</td>\n",
       "      <td>2021.03.03</td>\n",
       "      <td>단순투자</td>\n",
       "      <td>1,090,000,000</td>\n",
       "      <td>468,000</td>\n",
       "      <td>2</td>\n",
       "      <td>1,681,000,000</td>\n",
       "    </tr>\n",
       "    <tr>\n",
       "      <th>7</th>\n",
       "      <td>코스닥</td>\n",
       "      <td>인콘</td>\n",
       "      <td>휴마시스</td>\n",
       "      <td>2022.10.13</td>\n",
       "      <td>단순투자</td>\n",
       "      <td>2,728,000,000</td>\n",
       "      <td>205,232</td>\n",
       "      <td>0.61</td>\n",
       "      <td>2,925,000,000</td>\n",
       "    </tr>\n",
       "  </tbody>\n",
       "</table>\n",
       "<p>830 rows × 9 columns</p>\n",
       "</div>"
      ],
      "text/plain": [
       "   법인구분    회사명        법인명      최초취득일자  출자목적         최초취득금액             기말잔액수량  \\\n",
       "1   코스닥  아이즈비전     버킷스튜디오  2022.03.31  단순투자          5,000  1,000,000,000,000   \n",
       "8   코스닥  아이즈비전        위지트  2019.12.24  단순투자          4,928  7,920,517,000,000   \n",
       "0   코스피   삼양통상    BNK금융지주  2019.12.04  단순투자    854,000,000                  -   \n",
       "1   코스피   삼양통상     덕산네오룩스  2021.11.15  단순투자     52,000,000                  -   \n",
       "2   코스피   삼양통상   LG에너지솔루션  2022.05.06  단순투자  3,352,000,000                  -   \n",
       "..  ...    ...        ...         ...   ...            ...                ...   \n",
       "33  코스피  현대모비스        HDC  2005.05.20  단순투자  3,660,000,000            182,000   \n",
       "44  코스피  현대모비스  HDC현대산업개발  2018.06.12  단순투자  5,114,000,000            255,000   \n",
       "46  코스피  현대모비스       미디어젠  2009.06.25  단순투자      2,000,000            209,000   \n",
       "52  코스피  현대모비스     화승알앤에이  2021.03.03  단순투자  1,090,000,000            468,000   \n",
       "7   코스닥     인콘       휴마시스  2022.10.13  단순투자  2,728,000,000            205,232   \n",
       "\n",
       "   기말잔액지분율       기말잔액장부가액  \n",
       "1     1.19          1,620  \n",
       "8     7.69          4,919  \n",
       "0        -              -  \n",
       "1        -              -  \n",
       "2        -              -  \n",
       "..     ...            ...  \n",
       "33       0  1,002,000,000  \n",
       "44       0  2,550,000,000  \n",
       "46       4  2,564,000,000  \n",
       "52       2  1,681,000,000  \n",
       "7     0.61  2,925,000,000  \n",
       "\n",
       "[830 rows x 9 columns]"
      ]
     },
     "execution_count": 13,
     "metadata": {},
     "output_type": "execute_result"
    }
   ],
   "source": [
    "check"
   ]
  },
  {
   "cell_type": "code",
   "execution_count": 21,
   "id": "42945a7c-60aa-44bf-bf1d-1b7375329ef5",
   "metadata": {},
   "outputs": [],
   "source": [
    "check.to_excel(\"ECM2부-타법인출자현황-단순투자-2022-사업보고서.xlsx\", index = False, encoding = \"CP949\")"
   ]
  },
  {
   "cell_type": "code",
   "execution_count": null,
   "id": "e3a0ff27-395b-4e09-b696-d8ff0341d6b2",
   "metadata": {},
   "outputs": [],
   "source": []
  }
 ],
 "metadata": {
  "kernelspec": {
   "display_name": "Python 3 (ipykernel)",
   "language": "python",
   "name": "python3"
  },
  "language_info": {
   "codemirror_mode": {
    "name": "ipython",
    "version": 3
   },
   "file_extension": ".py",
   "mimetype": "text/x-python",
   "name": "python",
   "nbconvert_exporter": "python",
   "pygments_lexer": "ipython3",
   "version": "3.9.13"
  }
 },
 "nbformat": 4,
 "nbformat_minor": 5
}
