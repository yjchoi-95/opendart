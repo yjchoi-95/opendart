{
 "cells": [
  {
   "cell_type": "markdown",
   "id": "8c8942de-0da7-4d1c-9b9a-c5ee32614b81",
   "metadata": {},
   "source": [
    "## Import"
   ]
  },
  {
   "cell_type": "code",
   "execution_count": 2,
   "id": "a9b7ce56-b502-479c-af72-45e8a80790b2",
   "metadata": {},
   "outputs": [],
   "source": [
    "from selenium.webdriver.support.ui import WebDriverWait\n",
    "from selenium.webdriver.common.by import By\n",
    "from selenium.webdriver.common.keys import Keys\n",
    "from selenium.webdriver.support import expected_conditions as EC\n",
    "from selenium.common.exceptions import ElementNotInteractableException\n",
    "from selenium import webdriver\n",
    "from bs4 import BeautifulSoup\n",
    "from utils import *\n",
    "\n",
    "import requests\n",
    "import streamlit as st\n",
    "import pandas as pd\n",
    "import numpy as np\n",
    "import OpenDartReader\n",
    "import warnings\n",
    "import time, datetime\n",
    "import re, os\n",
    "\n",
    "warnings.filterwarnings('ignore')"
   ]
  },
  {
   "cell_type": "code",
   "execution_count": null,
   "id": "e50a06a7-987b-482f-ad2a-f084ab2c1006",
   "metadata": {
    "tags": []
   },
   "outputs": [],
   "source": []
  },
  {
   "cell_type": "markdown",
   "id": "9999e27d-1af6-496f-b180-2d589be546f7",
   "metadata": {},
   "source": [
    "* API setting"
   ]
  },
  {
   "cell_type": "code",
   "execution_count": null,
   "id": "5e9f3ce4-e476-4712-a855-cda6ecbedf1b",
   "metadata": {
    "tags": []
   },
   "outputs": [],
   "source": [
    "start_dt = '2023-05-01'\n",
    "end_dt = '2023-06-01'"
   ]
  },
  {
   "cell_type": "code",
   "execution_count": null,
   "id": "5144e500-7a07-49f8-b989-abf923b244c5",
   "metadata": {},
   "outputs": [],
   "source": [
    "head_df = main(start_dt, end_dt, opt = 'IB전략')\n",
    "form_1, form_2, form_3 = main(start_dt, end_dt, opt = '기업금융1부')"
   ]
  },
  {
   "cell_type": "code",
   "execution_count": null,
   "id": "29a1c6a9-ee3b-4831-8575-d332603becd4",
   "metadata": {},
   "outputs": [],
   "source": []
  },
  {
   "cell_type": "markdown",
   "id": "c3b75168-1b9a-4d1e-b309-f756a9e787b7",
   "metadata": {},
   "source": [
    "* 디버깅"
   ]
  },
  {
   "cell_type": "code",
   "execution_count": 3,
   "id": "d341c1fc-a968-40e6-a22c-d67b12a3da09",
   "metadata": {},
   "outputs": [],
   "source": [
    "from selenium.webdriver.chrome.options import Options"
   ]
  },
  {
   "cell_type": "code",
   "execution_count": 4,
   "id": "aae98aa4-bb92-4fa1-b9ad-0ca23439d966",
   "metadata": {},
   "outputs": [],
   "source": [
    "start_dt = '2022-12-16'\n",
    "end_dt = '2023-01-16'"
   ]
  },
  {
   "cell_type": "code",
   "execution_count": 5,
   "id": "b5386dc4-bff4-4930-b28b-b772cf08c661",
   "metadata": {},
   "outputs": [],
   "source": [
    "api_key = '1b39652cef07f626c9d37375edf582ee51b1407f'\n",
    "dart = OpenDartReader(api_key)\n",
    "\n",
    "# C=발행공시, D=지분공시\n",
    "market_dict = {\"Y\": \"코스피\",\"K\": \"코스닥\", \"N\": \"코넥스\", \"E\": \"기타\"}\n",
    "\n",
    "info_df = dart.list(start=start_dt, end=end_dt, kind_detail='C001')\n",
    "info_df = pd.concat([info_df, dart.list(start=start_dt, end=end_dt, kind_detail='G002')])\n",
    "\n",
    "info_df = info_df.loc[[True if \"증권발행실적보고서\" in x else False for x in info_df.report_nm]]\n",
    "info_df = info_df.loc[info_df.corp_cls.isin(['Y', 'K'])]\n",
    "info_df.corp_cls = info_df.corp_cls.map(market_dict)"
   ]
  },
  {
   "cell_type": "code",
   "execution_count": 6,
   "id": "427e145a-992d-40ba-8280-77c4c6930939",
   "metadata": {},
   "outputs": [],
   "source": [
    "options = Options()\n",
    "options.add_argument('--headless')"
   ]
  },
  {
   "cell_type": "code",
   "execution_count": 7,
   "id": "9e0eec4f-4ff9-4b03-a114-bc8507a33a38",
   "metadata": {},
   "outputs": [],
   "source": [
    "#driver = webdriver.Chrome(options = options)\n",
    "driver = webdriver.Chrome(options = options)\n",
    "driver.set_window_size(1980, 1080)"
   ]
  },
  {
   "cell_type": "code",
   "execution_count": 8,
   "id": "8fd79904-7f4a-4d87-9aab-fbb600967bfb",
   "metadata": {},
   "outputs": [],
   "source": [
    "api_key = '1b39652cef07f626c9d37375edf582ee51b1407f'\n",
    "dart = OpenDartReader(api_key)\n",
    "\n",
    "# C=발행공시, D=지분공시\n",
    "market_dict = {\"Y\": \"코스피\",\"K\": \"코스닥\", \"N\": \"코넥스\", \"E\": \"기타\"}\n",
    "\n",
    "info_df = dart.list(start=start_dt, end=end_dt, kind_detail='C001')\n",
    "info_df = pd.concat([info_df, dart.list(start=start_dt, end=end_dt, kind_detail='G002')])\n",
    "\n",
    "info_df = info_df.loc[[True if \"증권발행실적보고서\" in x else False for x in info_df.report_nm]]\n",
    "info_df = info_df.loc[info_df.corp_cls.isin(['Y', 'K'])]\n",
    "info_df.corp_cls = info_df.corp_cls.map(market_dict)\n",
    "\n",
    "# kind\n",
    "first_df = kind_main(driver, info_df, start_dt, end_dt)"
   ]
  },
  {
   "cell_type": "code",
   "execution_count": 9,
   "id": "8feeb48a-dba7-42b4-936c-901f144e2599",
   "metadata": {},
   "outputs": [],
   "source": [
    "# ipo stock\n",
    "driver = webdriver.Chrome(options = options)\n",
    "driver.set_window_size(1920, 1080)\n",
    "\n",
    "ipo_df = ipo_main(driver, info_df)\n",
    "first_df = pd.merge(first_df, ipo_df, on = 'corp_name')"
   ]
  },
  {
   "cell_type": "code",
   "execution_count": 10,
   "id": "7d1bafd4-d2dd-421d-9917-e4bc9f928073",
   "metadata": {},
   "outputs": [],
   "source": [
    "# 38커뮤니케이션\n",
    "outer_df = get_38(start_dt, end_dt)\n",
    "second_df = pd.merge(first_df, outer_df, on = 'stock_code', how = 'inner')\n",
    "\n",
    "# DART\n",
    "third_df = get_dd(dart, second_df)\n",
    "third_df, fourth_df = get_d_tables(dart, third_df)"
   ]
  },
  {
   "cell_type": "code",
   "execution_count": 12,
   "id": "5abfd7c7-020e-4005-9d8f-1df933bc072b",
   "metadata": {},
   "outputs": [],
   "source": [
    "opt = \"IB전략\"\n",
    "head_df = change_form(third_df, opt)\n",
    "\n",
    "opt = \"ㅈㄷㄱ\"\n",
    "form_1 = change_form(fourth_df, opt, 1)\n",
    "form_2 = change_form(third_df, opt, 2)\n",
    "form_3 = change_form(fourth_df, opt, 3)"
   ]
  },
  {
   "cell_type": "code",
   "execution_count": null,
   "id": "ac5ff33e-db30-4921-b6a0-8c4f27d518a5",
   "metadata": {},
   "outputs": [],
   "source": []
  },
  {
   "cell_type": "code",
   "execution_count": 20,
   "id": "668fc18d-9a04-4380-8c30-8fe9d9f2c6f5",
   "metadata": {},
   "outputs": [],
   "source": [
    "head_df.sort_values(\"수요예측(시작일)\").to_excel(\"IB전략컨설팅부-2305.xlsx\", index = False, encoding = 'CP949')\n",
    "form_1.sort_values(\"상장일\").to_excel(\"기업금융1부-01-리그테이블-2305.xlsx\", index = False, encoding = 'CP949')\n",
    "form_2.sort_values(\"청약일\").to_excel(\"기업금융1부-02-통합집계-2305.xlsx\", index = False, encoding = 'CP949')\n",
    "form_3.to_excel(\"기업금융1부-03-summary-2305.xlsx\", index = False, encoding = 'CP949')"
   ]
  },
  {
   "cell_type": "code",
   "execution_count": null,
   "id": "f7df6b73-4435-4bda-b5b1-2f38825e6a4e",
   "metadata": {},
   "outputs": [],
   "source": []
  },
  {
   "cell_type": "code",
   "execution_count": null,
   "id": "f6a60f9f-4f68-4c11-aad5-ee8e5db50eec",
   "metadata": {},
   "outputs": [],
   "source": [
    "cd C:\\Users\\Administrator\\Documents\\GitHub\\opendart\\ipynb "
   ]
  },
  {
   "cell_type": "code",
   "execution_count": null,
   "id": "858ebec7-73f5-4249-aaa9-4ffe6bb93618",
   "metadata": {},
   "outputs": [],
   "source": [
    "streamlit run Corporate-Finance-1dept.py"
   ]
  },
  {
   "cell_type": "code",
   "execution_count": null,
   "id": "f22616f7-1e1e-4674-b7bc-950addc085fc",
   "metadata": {},
   "outputs": [],
   "source": [
    "streamlit run IB-strategy.py"
   ]
  },
  {
   "cell_type": "code",
   "execution_count": null,
   "id": "4d6af2cc-1596-489a-b391-f563809b577b",
   "metadata": {},
   "outputs": [],
   "source": []
  }
 ],
 "metadata": {
  "kernelspec": {
   "display_name": "Python 3 (ipykernel)",
   "language": "python",
   "name": "python3"
  },
  "language_info": {
   "codemirror_mode": {
    "name": "ipython",
    "version": 3
   },
   "file_extension": ".py",
   "mimetype": "text/x-python",
   "name": "python",
   "nbconvert_exporter": "python",
   "pygments_lexer": "ipython3",
   "version": "3.9.13"
  }
 },
 "nbformat": 4,
 "nbformat_minor": 5
}
