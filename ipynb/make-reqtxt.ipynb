{
 "cells": [
  {
   "cell_type": "code",
   "execution_count": 1,
   "id": "8c6f44e7-7225-4a5f-9537-85ddf366ee3a",
   "metadata": {},
   "outputs": [
    {
     "ename": "ModuleNotFoundError",
     "evalue": "No module named 'OpenDartReader'",
     "output_type": "error",
     "traceback": [
      "\u001b[1;31m---------------------------------------------------------------------------\u001b[0m",
      "\u001b[1;31mModuleNotFoundError\u001b[0m                       Traceback (most recent call last)",
      "Cell \u001b[1;32mIn[1], line 3\u001b[0m\n\u001b[0;32m      1\u001b[0m \u001b[38;5;28;01mimport\u001b[39;00m \u001b[38;5;21;01mpandas\u001b[39;00m \u001b[38;5;28;01mas\u001b[39;00m \u001b[38;5;21;01mpd\u001b[39;00m\n\u001b[0;32m      2\u001b[0m \u001b[38;5;28;01mimport\u001b[39;00m \u001b[38;5;21;01mnumpy\u001b[39;00m \u001b[38;5;28;01mas\u001b[39;00m \u001b[38;5;21;01mnp\u001b[39;00m\n\u001b[1;32m----> 3\u001b[0m \u001b[38;5;28;01mimport\u001b[39;00m \u001b[38;5;21;01mOpenDartReader\u001b[39;00m\n\u001b[0;32m      4\u001b[0m \u001b[38;5;28;01mimport\u001b[39;00m \u001b[38;5;21;01mwarnings\u001b[39;00m\n\u001b[0;32m      5\u001b[0m \u001b[38;5;28;01mimport\u001b[39;00m \u001b[38;5;21;01mtime\u001b[39;00m\n",
      "\u001b[1;31mModuleNotFoundError\u001b[0m: No module named 'OpenDartReader'"
     ]
    }
   ],
   "source": [
    "import pandas as pd\n",
    "import numpy as np\n",
    "import OpenDartReader\n",
    "import warnings\n",
    "import time\n",
    "import re\n",
    "import os\n",
    "import streamlit\n",
    "import webdriver_manager\n",
    "import streamlit_option_menu\n",
    "import pyxlsb"
   ]
  },
  {
   "cell_type": "code",
   "execution_count": 7,
   "id": "3bf8a2e2-cf85-4439-a725-215d99779e7e",
   "metadata": {},
   "outputs": [],
   "source": [
    "empty_list = []\n",
    "empty_list.append(['streamlit', ''])\n",
    "empty_list.append(['webdriver-manager', ''])\n",
    "empty_list.append(['selenium', ''])\n",
    "empty_list.append(['seleniumbase', ''])\n",
    "empty_list.append(['beautifulsoup4', ''])\n",
    "empty_list.append(['streamlit_option_menu', ''])\n",
    "empty_list.append(['pandas', pd.__version__])\n",
    "empty_list.append(['OpenDartReader', ''])\n",
    "empty_list.append(['requests', ''])\n",
    "#empty_list.append(['pyxlsb', ''])\n",
    "#empty_list.append(['chromedriver-py', ''])\n",
    "#empty_list.append(['chromium', ''])\n",
    "#empty_list.append(['chromium-driver', ''])\n",
    "#empty_list.append(['undetected-chromedriver', ''])\n",
    "#empty_list.append(['io', ''])\n",
    "#empty_list.append(['numpy', ''])\n",
    "\n",
    "with open('requirements.txt', 'w') as f:\n",
    "    for lib, ver in empty_list:\n",
    "        if ver != '':\n",
    "            f.write('{}=={}\\n'.format(lib,ver))\n",
    "        else:\n",
    "            f.write('{}\\n'.format(lib))\n",
    "f.close()"
   ]
  },
  {
   "cell_type": "code",
   "execution_count": 3,
   "id": "6ddb022a-fc20-4bbc-84c3-1da87a4d753d",
   "metadata": {},
   "outputs": [],
   "source": [
    "empty_list = []\n",
    "#empty_list.append(['chromium', ''])\n",
    "#empty_list.append(['chromium-driver', ''])\n",
    "empty_list.append(['firefox-esr', ''])\n",
    "\n",
    "with open('packages.txt', 'w') as f:\n",
    "    for lib, ver in empty_list:\n",
    "        if ver != '':\n",
    "            f.write('{}=={}\\n'.format(lib,ver))\n",
    "        else:\n",
    "            f.write('{}\\n'.format(lib))\n",
    "f.close()"
   ]
  },
  {
   "cell_type": "code",
   "execution_count": null,
   "id": "cf004ec7-322c-464a-b224-1dede4008539",
   "metadata": {},
   "outputs": [],
   "source": []
  },
  {
   "cell_type": "code",
   "execution_count": null,
   "id": "c39d80d1-9d62-4935-a41d-749a29ec3eca",
   "metadata": {},
   "outputs": [],
   "source": [
    "from selenium.webdriver.support.ui import WebDriverWait\n",
    "from selenium.webdriver.common.by import By\n",
    "from selenium.webdriver.common.keys import Keys\n",
    "from selenium.webdriver.support import expected_conditions as EC\n",
    "from selenium.common.exceptions import ElementNotInteractableException\n",
    "from selenium import webdriver\n",
    "from bs4 import BeautifulSoup\n",
    "from utils import *\n",
    "\n",
    "import requests\n",
    "import streamlit as st\n",
    "import pandas as pd\n",
    "import numpy as np\n",
    "import OpenDartReader\n",
    "import warnings\n",
    "import time, datetime\n",
    "import re, os\n",
    "\n",
    "warnings.filterwarnings('ignore')"
   ]
  }
 ],
 "metadata": {
  "kernelspec": {
   "display_name": "Python 3",
   "language": "python",
   "name": "python3"
  },
  "language_info": {
   "codemirror_mode": {
    "name": "ipython",
    "version": 3
   },
   "file_extension": ".py",
   "mimetype": "text/x-python",
   "name": "python",
   "nbconvert_exporter": "python",
   "pygments_lexer": "ipython3",
   "version": "3.8.8"
  }
 },
 "nbformat": 4,
 "nbformat_minor": 5
}
