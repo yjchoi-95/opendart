{
 "cells": [
  {
   "cell_type": "markdown",
   "id": "8c8942de-0da7-4d1c-9b9a-c5ee32614b81",
   "metadata": {},
   "source": [
    "## Import"
   ]
  },
  {
   "cell_type": "code",
   "execution_count": 1,
   "id": "a9b7ce56-b502-479c-af72-45e8a80790b2",
   "metadata": {},
   "outputs": [],
   "source": [
    "from selenium.webdriver.chrome.options import Options\n",
    "from selenium.webdriver.chrome.service import Service\n",
    "from webdriver_manager.chrome import ChromeDriverManager\n",
    "from selenium.webdriver.support.ui import WebDriverWait\n",
    "from selenium.webdriver.common.by import By\n",
    "from selenium.webdriver.common.keys import Keys\n",
    "from selenium.webdriver.support import expected_conditions as EC\n",
    "from selenium.common.exceptions import ElementNotInteractableException\n",
    "from selenium import webdriver\n",
    "from tqdm import tqdm\n",
    "from bs4 import BeautifulSoup\n",
    "from IB_utils import *\n",
    "\n",
    "import requests\n",
    "import streamlit as st\n",
    "import pandas as pd\n",
    "import numpy as np\n",
    "import OpenDartReader\n",
    "import warnings\n",
    "import time, datetime\n",
    "import re, os\n",
    "\n",
    "warnings.filterwarnings('ignore')"
   ]
  },
  {
   "cell_type": "code",
   "execution_count": 11,
   "id": "e3551db9-98c1-4be7-8680-743f36063146",
   "metadata": {},
   "outputs": [],
   "source": [
    "# load data\n",
    "def read_xlsx(name):\n",
    "    instance = xw.App(visible=False)\n",
    "    xlsx_data = xw.Book(name).sheets[0]\n",
    "    df = xlsx_data.range('A1').options(pd.DataFrame, index = False, expand = 'table').value\n",
    "    instance.quit()\n",
    "    instance.kill()\n",
    "    return df\n",
    "\n",
    "def read_data(file):\n",
    "    try:\n",
    "        output = pd.read_excel(file)\n",
    "    except:\n",
    "        output = read_xlsx(file)\n",
    "    return output"
   ]
  },
  {
   "cell_type": "code",
   "execution_count": 2,
   "id": "1ccb7e0a-f958-40a4-ad09-d7cf89b19ee7",
   "metadata": {},
   "outputs": [],
   "source": [
    "options = Options()\n",
    "options.add_argument('--headless')\n",
    "\n",
    "def get_driver(viz_opt = False):\n",
    "    #return webdriver.Chrome(service=Service(ChromeDriverManager().install()), options=options)\n",
    "    if viz_opt:\n",
    "        return webdriver.Chrome()\n",
    "    else:\n",
    "        return webdriver.Chrome(options=options)"
   ]
  },
  {
   "cell_type": "code",
   "execution_count": 7,
   "id": "6eeae948-1ed9-43fa-bcf2-e255f2014d32",
   "metadata": {},
   "outputs": [],
   "source": [
    "data_path = './datasets/'\n",
    "\n",
    "if not os.path.isdir(data_path):\n",
    "    os.mkdir(data_path)"
   ]
  },
  {
   "cell_type": "code",
   "execution_count": 26,
   "id": "6693339c-ebc6-4088-a127-cfb6b4c10928",
   "metadata": {},
   "outputs": [],
   "source": [
    "def set_kind(driver, start_dt, end_dt):\n",
    "    driver.get('https://kind.krx.co.kr/listinvstg/pubofrprogcom.do?method=searchPubofrProgComMain')\n",
    "\n",
    "    wait = WebDriverWait(driver, 10, poll_frequency=0.25)\n",
    "    wait.until(EC.presence_of_element_located((By.CLASS_NAME, 'ord-02')))\n",
    "    \n",
    "    # 시작일\n",
    "    start_date = driver.find_elements(By.ID, 'fromDate')[0]\n",
    "    start_date.clear()\n",
    "    time.sleep(0.25)\n",
    "    start_date.send_keys(start_dt)\n",
    "    start_date.send_keys(Keys.ESCAPE)\n",
    "    \n",
    "    # 종료일\n",
    "    end_date = driver.find_elements(By.ID, 'toDate')[0]\n",
    "    end_date.clear()\n",
    "    time.sleep(0.25)\n",
    "    end_date.send_keys(end_dt)\n",
    "    end_date.send_keys(Keys.ESCAPE)\n",
    "    \n",
    "    # 검색\n",
    "    search = driver.find_elements(By.CLASS_NAME, 'btn-sprite.type-00.vmiddle.search-btn')\n",
    "    search[0].click()\n",
    "    time.sleep(0.5)\n",
    "\n",
    "    # 페이지 수 선택\n",
    "    pages = driver.find_elements(By.ID, 'currentPageSize')\n",
    "    pages[1].click()\n",
    "    time.sleep(0.5)\n",
    "\n",
    "    # 100건\n",
    "    driver.find_elements(By.XPATH, '/html/body/section[2]/section/article/section[2]/div[2]/select/option[4]')[0].click()\n",
    "    time.sleep(0.25)\n",
    "\n",
    "    # 적용\n",
    "    driver.find_elements(By.CLASS_NAME, 'btn-sprite.btn-go.vmiddle')[0].click()\n",
    "    time.sleep(1)\n",
    "\n",
    "    # 테이블 가져오기\n",
    "    table_src = pd.read_html(driver.page_source)\n",
    "    table = [x for x in table_src if '수요예측일정' in x][0]\n",
    "    # 상세 페이지 번호 가져오기\n",
    "    rows = driver.find_elements(By.XPATH, '/html/body/section[2]/section/article/section[1]/table/tbody/tr')\n",
    "    table['inner'] = [re.sub(\"[^0-9]\", \"\", x.get_attribute('onclick')) for x in rows]\n",
    "    \n",
    "    return table"
   ]
  },
  {
   "cell_type": "code",
   "execution_count": 79,
   "id": "2b4b2b87-b86e-4d60-9884-73eb937e5246",
   "metadata": {},
   "outputs": [],
   "source": [
    "check_corp = ['프로테옴텍', '큐라티스', '마녀공장', '나라셀라', '진영', '기가비스']"
   ]
  },
  {
   "cell_type": "code",
   "execution_count": 120,
   "id": "56cea66f-46da-4c5c-8a25-0ec13fd842b6",
   "metadata": {},
   "outputs": [],
   "source": [
    "opt = 'IB전략'\n",
    "start_dt = '2023-03-01'\n",
    "end_dt = '2023-05-31'\n",
    "#start_dt = '2023-07-01'\n",
    "#end_dt = '2023-07-20'\n",
    "start_dt2 = datetime.datetime.strftime(datetime.datetime.strptime(end_dt, '%Y-%m-%d') - datetime.timedelta(days = 80), '%Y-%m-%d')\n",
    "start_dt3 = datetime.datetime.strftime(datetime.datetime.strptime(end_dt, '%Y-%m-%d') - datetime.timedelta(days = 180), '%Y-%m-%d')\n",
    "\n",
    "dart_df, dart = initial_set(start_dt2, end_dt)\n",
    "\n",
    "# kind\n",
    "driver = get_driver(viz_opt = True)\n",
    "driver.set_window_size(1920, 1080)\n",
    "\n",
    "table = set_kind(driver, start_dt3, end_dt)\n",
    "kind_output = get_kind_inner(driver, table)\n",
    "first_df = post_proc(dart_df, kind_output, start_dt)\n",
    "\n",
    "# ipo stock\n",
    "driver = get_driver()\n",
    "driver.set_window_size(1920, 1080)\n",
    "ipo_df = ipo_main(driver, first_df)\n",
    "first_df = pd.merge(first_df, ipo_df, on = 'corp_name', how = 'left')\n",
    "first_df.replace(np.NaN, 0, inplace = True)\n",
    "first_df['key'] = [change_join(x) if \"스팩\" in x else x for x in list(first_df.corp_name)]\n",
    "\n",
    "outer_df = get_38(start_dt, end_dt)\n",
    "second_df = pd.merge(first_df, outer_df, left_on = 'key', right_on = '기업명', how = 'inner')\n",
    "del second_df['기업명'], second_df['key'], second_df['stock_code_x']\n",
    "second_df.rename(columns = {'stock_code_y':'stock_code'}, inplace = True)\n",
    "\n",
    "third_df = get_dd(dart, second_df)\n",
    "third_df, fourth_df = get_d_tables(dart, third_df)\n",
    "head_df = change_form(third_df, opt)"
   ]
  },
  {
   "cell_type": "code",
   "execution_count": 117,
   "id": "fb22697f-00a8-4b51-ae05-d6c7d0f0c1df",
   "metadata": {},
   "outputs": [],
   "source": [
    "if os.path.isfile(data_path + \"ib-strategy-data.xlsx\"):\n",
    "    origin_df = read_data(data_path + \"ib-strategy-data.xlsx\")\n",
    "    origin_df = pd.concat([origin_df, head_df]).sort_values(\"수요예측(시작일)\").drop_duplicates()\n",
    "    origin_df.to_excel(data_path + \"ib-strategy-data.xlsx\", index = False)\n",
    "else:\n",
    "    head_df.to_excel(data_path + \"ib-strategy-data.xlsx\", index = False)"
   ]
  },
  {
   "cell_type": "code",
   "execution_count": null,
   "id": "11c43a1c-b1a7-4785-91b5-edbd5f5213cd",
   "metadata": {},
   "outputs": [],
   "source": []
  }
 ],
 "metadata": {
  "kernelspec": {
   "display_name": "Python 3 (ipykernel)",
   "language": "python",
   "name": "python3"
  },
  "language_info": {
   "codemirror_mode": {
    "name": "ipython",
    "version": 3
   },
   "file_extension": ".py",
   "mimetype": "text/x-python",
   "name": "python",
   "nbconvert_exporter": "python",
   "pygments_lexer": "ipython3",
   "version": "3.9.13"
  }
 },
 "nbformat": 4,
 "nbformat_minor": 5
}
