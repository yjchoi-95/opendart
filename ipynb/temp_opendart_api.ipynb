{
 "cells": [
  {
   "cell_type": "markdown",
   "id": "b3bf7199-7535-4557-a257-c339c6aaed9b",
   "metadata": {},
   "source": [
    "## Import"
   ]
  },
  {
   "cell_type": "code",
   "execution_count": 1,
   "id": "2b15c260-21eb-4ba1-99dd-b3781c6cbaf7",
   "metadata": {},
   "outputs": [],
   "source": [
    "import OpenDartReader\n",
    "import re"
   ]
  },
  {
   "cell_type": "code",
   "execution_count": null,
   "id": "5a3f8534-5296-4b28-9646-9115b6c91b60",
   "metadata": {},
   "outputs": [],
   "source": []
  },
  {
   "cell_type": "markdown",
   "id": "786514c0-272f-4477-bc10-46055ae6c98d",
   "metadata": {},
   "source": [
    "* api setting"
   ]
  },
  {
   "cell_type": "code",
   "execution_count": 2,
   "id": "6b15f1c3-b592-40a5-b709-4320bde02dee",
   "metadata": {},
   "outputs": [
    {
     "name": "stderr",
     "output_type": "stream",
     "text": [
      "C:\\Windows\\Anaconda3\\lib\\site-packages\\urllib3\\connectionpool.py:1045: InsecureRequestWarning: Unverified HTTPS request is being made to host 'opendart.fss.or.kr'. Adding certificate verification is strongly advised. See: https://urllib3.readthedocs.io/en/1.26.x/advanced-usage.html#ssl-warnings\n",
      "  warnings.warn(\n"
     ]
    }
   ],
   "source": [
    "api_key = '1b39652cef07f626c9d37375edf582ee51b1407f'\n",
    "dart = OpenDartReader(api_key) "
   ]
  },
  {
   "cell_type": "code",
   "execution_count": 3,
   "id": "fcdd8d51-35bc-42e4-8239-d8e7574ba0d8",
   "metadata": {},
   "outputs": [],
   "source": [
    "corp_df = dart.corp_codes\n",
    "corp_list = corp_df.corp_name"
   ]
  },
  {
   "cell_type": "code",
   "execution_count": 8,
   "id": "38ed9805-169e-4bf7-ad31-2df3a1d432b9",
   "metadata": {},
   "outputs": [
    {
     "data": {
      "text/html": [
       "<div>\n",
       "<style scoped>\n",
       "    .dataframe tbody tr th:only-of-type {\n",
       "        vertical-align: middle;\n",
       "    }\n",
       "\n",
       "    .dataframe tbody tr th {\n",
       "        vertical-align: top;\n",
       "    }\n",
       "\n",
       "    .dataframe thead th {\n",
       "        text-align: right;\n",
       "    }\n",
       "</style>\n",
       "<table border=\"1\" class=\"dataframe\">\n",
       "  <thead>\n",
       "    <tr style=\"text-align: right;\">\n",
       "      <th></th>\n",
       "      <th>corp_code</th>\n",
       "      <th>corp_name</th>\n",
       "      <th>stock_code</th>\n",
       "      <th>modify_date</th>\n",
       "    </tr>\n",
       "  </thead>\n",
       "  <tbody>\n",
       "  </tbody>\n",
       "</table>\n",
       "</div>"
      ],
      "text/plain": [
       "Empty DataFrame\n",
       "Columns: [corp_code, corp_name, stock_code, modify_date]\n",
       "Index: []"
      ]
     },
     "execution_count": 8,
     "metadata": {},
     "output_type": "execute_result"
    }
   ],
   "source": [
    "corp_df.loc[corp_df.corp_name == '웨일인베스트먼트']"
   ]
  },
  {
   "cell_type": "code",
   "execution_count": 12,
   "id": "0ac82428-0cc2-4381-875a-252b23827603",
   "metadata": {},
   "outputs": [
    {
     "data": {
      "text/plain": [
       "['에이치엘비인베스트먼트', '엘비인베스트먼트']"
      ]
     },
     "execution_count": 12,
     "metadata": {},
     "output_type": "execute_result"
    }
   ],
   "source": [
    "[x for x in corp_df.corp_name if '엘비인베스트' in x]"
   ]
  },
  {
   "cell_type": "code",
   "execution_count": 19,
   "id": "328f7ca3-b778-4421-be18-fbd9400ecc6d",
   "metadata": {},
   "outputs": [
    {
     "data": {
      "text/html": [
       "<div>\n",
       "<style scoped>\n",
       "    .dataframe tbody tr th:only-of-type {\n",
       "        vertical-align: middle;\n",
       "    }\n",
       "\n",
       "    .dataframe tbody tr th {\n",
       "        vertical-align: top;\n",
       "    }\n",
       "\n",
       "    .dataframe thead th {\n",
       "        text-align: right;\n",
       "    }\n",
       "</style>\n",
       "<table border=\"1\" class=\"dataframe\">\n",
       "  <thead>\n",
       "    <tr style=\"text-align: right;\">\n",
       "      <th></th>\n",
       "      <th>corp_code</th>\n",
       "      <th>corp_name</th>\n",
       "      <th>stock_code</th>\n",
       "      <th>modify_date</th>\n",
       "    </tr>\n",
       "  </thead>\n",
       "  <tbody>\n",
       "    <tr>\n",
       "      <th>26117</th>\n",
       "      <td>00311030</td>\n",
       "      <td>미래에셋증권</td>\n",
       "      <td>037620</td>\n",
       "      <td>20170630</td>\n",
       "    </tr>\n",
       "    <tr>\n",
       "      <th>95727</th>\n",
       "      <td>00111722</td>\n",
       "      <td>미래에셋증권</td>\n",
       "      <td>006800</td>\n",
       "      <td>20230113</td>\n",
       "    </tr>\n",
       "  </tbody>\n",
       "</table>\n",
       "</div>"
      ],
      "text/plain": [
       "      corp_code corp_name stock_code modify_date\n",
       "26117  00311030    미래에셋증권     037620    20170630\n",
       "95727  00111722    미래에셋증권     006800    20230113"
      ]
     },
     "execution_count": 19,
     "metadata": {},
     "output_type": "execute_result"
    }
   ],
   "source": [
    "corp_df.loc[corp_df.corp_name == '미래에셋증권']"
   ]
  },
  {
   "cell_type": "code",
   "execution_count": 28,
   "id": "ac62f7fd-bcab-49bd-be84-081cd723bd75",
   "metadata": {},
   "outputs": [
    {
     "name": "stdout",
     "output_type": "stream",
     "text": [
      "reprt_code='11011', fs_div='CFS' (사업보고서, 연결제무제표)'\n",
      "{'status': '013', 'message': '조회된 데이타가 없습니다.'}\n",
      "\n"
     ]
    },
    {
     "name": "stderr",
     "output_type": "stream",
     "text": [
      "C:\\Windows\\Anaconda3\\lib\\site-packages\\urllib3\\connectionpool.py:1045: InsecureRequestWarning: Unverified HTTPS request is being made to host 'opendart.fss.or.kr'. Adding certificate verification is strongly advised. See: https://urllib3.readthedocs.io/en/1.26.x/advanced-usage.html#ssl-warnings\n",
      "  warnings.warn(\n"
     ]
    },
    {
     "data": {
      "text/html": [
       "<div>\n",
       "<style scoped>\n",
       "    .dataframe tbody tr th:only-of-type {\n",
       "        vertical-align: middle;\n",
       "    }\n",
       "\n",
       "    .dataframe tbody tr th {\n",
       "        vertical-align: top;\n",
       "    }\n",
       "\n",
       "    .dataframe thead th {\n",
       "        text-align: right;\n",
       "    }\n",
       "</style>\n",
       "<table border=\"1\" class=\"dataframe\">\n",
       "  <thead>\n",
       "    <tr style=\"text-align: right;\">\n",
       "      <th></th>\n",
       "    </tr>\n",
       "  </thead>\n",
       "  <tbody>\n",
       "  </tbody>\n",
       "</table>\n",
       "</div>"
      ],
      "text/plain": [
       "Empty DataFrame\n",
       "Columns: []\n",
       "Index: []"
      ]
     },
     "execution_count": 28,
     "metadata": {},
     "output_type": "execute_result"
    }
   ],
   "source": [
    "dart.finstate_all(corp = '00111722', bsns_year = 2022)"
   ]
  },
  {
   "cell_type": "code",
   "execution_count": 46,
   "id": "22ed6e7b-fd72-42a6-9bbd-928be589eafb",
   "metadata": {},
   "outputs": [
    {
     "name": "stderr",
     "output_type": "stream",
     "text": [
      "C:\\Windows\\Anaconda3\\lib\\site-packages\\urllib3\\connectionpool.py:1045: InsecureRequestWarning: Unverified HTTPS request is being made to host 'opendart.fss.or.kr'. Adding certificate verification is strongly advised. See: https://urllib3.readthedocs.io/en/1.26.x/advanced-usage.html#ssl-warnings\n",
      "  warnings.warn(\n"
     ]
    }
   ],
   "source": [
    "a = dart.event('웨이버스', '회사합병','2021')"
   ]
  },
  {
   "cell_type": "code",
   "execution_count": 47,
   "id": "f5808659-9b36-4d50-ac83-14239dee8df5",
   "metadata": {},
   "outputs": [],
   "source": [
    "change_dict = {\"corp_name\":\"회사명\",\n",
    "               \"rcept_no\":\"접수번호\",\n",
    "               \"mg_stn\":\"합병형태\",\n",
    "               \"mgptncmp_cmpnm\":\"합병상대회사명\",\n",
    "               \"mgptncmp_mbsn\":\"합병상대회사주요사업\",\n",
    "               \"rbsnfdtl_tast\":\"합병상대회사자산총계\",\n",
    "               \"rbsnfdtl_tdbt\":\"합병상대회사부채총계\",\n",
    "               \"rbsnfdtl_teqt\":\"합병상대회사자본총계\",\n",
    "               \"nmgcmp_cmpnm\":\"신설합병회사\",\n",
    "               \"ffdtl_tast\":\"신설합병회사자산총계\",\n",
    "               \"ffdtl_tdbt\":\"신설합병회사부채총계\",\n",
    "               \"ffdtl_teqt\":\"신설합병회사자본총계\",\n",
    "               \"nmgcmp_mbsn\":\"신설합병회사주요사업\",\n",
    "               \"mgsc_mgdt\":\"합병기일\",\n",
    "               \"bdlst_atn\":\"우회상장해당여부\",\n",
    "               \"rs_sm_atn\":\"증권신고서제출대상여부\"}"
   ]
  },
  {
   "cell_type": "code",
   "execution_count": 48,
   "id": "bb994e33-4ef1-4ae0-bda6-a6fefa168cb3",
   "metadata": {},
   "outputs": [],
   "source": [
    "a = a.loc[:, list(change_dict.keys())]"
   ]
  },
  {
   "cell_type": "code",
   "execution_count": 49,
   "id": "70f2f15d-c993-488d-85c3-afdb417d5fb8",
   "metadata": {},
   "outputs": [
    {
     "data": {
      "text/html": [
       "<div>\n",
       "<style scoped>\n",
       "    .dataframe tbody tr th:only-of-type {\n",
       "        vertical-align: middle;\n",
       "    }\n",
       "\n",
       "    .dataframe tbody tr th {\n",
       "        vertical-align: top;\n",
       "    }\n",
       "\n",
       "    .dataframe thead th {\n",
       "        text-align: right;\n",
       "    }\n",
       "</style>\n",
       "<table border=\"1\" class=\"dataframe\">\n",
       "  <thead>\n",
       "    <tr style=\"text-align: right;\">\n",
       "      <th></th>\n",
       "      <th>corp_name</th>\n",
       "      <th>rcept_no</th>\n",
       "      <th>mg_stn</th>\n",
       "      <th>mgptncmp_cmpnm</th>\n",
       "      <th>mgptncmp_mbsn</th>\n",
       "      <th>rbsnfdtl_tast</th>\n",
       "      <th>rbsnfdtl_tdbt</th>\n",
       "      <th>rbsnfdtl_teqt</th>\n",
       "      <th>nmgcmp_cmpnm</th>\n",
       "      <th>ffdtl_tast</th>\n",
       "      <th>ffdtl_tdbt</th>\n",
       "      <th>ffdtl_teqt</th>\n",
       "      <th>nmgcmp_mbsn</th>\n",
       "      <th>mgsc_mgdt</th>\n",
       "      <th>bdlst_atn</th>\n",
       "      <th>rs_sm_atn</th>\n",
       "    </tr>\n",
       "  </thead>\n",
       "  <tbody>\n",
       "    <tr>\n",
       "      <th>0</th>\n",
       "      <td>웨이버스</td>\n",
       "      <td>20220118000162</td>\n",
       "      <td>해당사항없음</td>\n",
       "      <td>주식회사 웨이버스</td>\n",
       "      <td>공간정보 솔루션 개발 및 공급업</td>\n",
       "      <td>16,305,233,387</td>\n",
       "      <td>7,775,941,618</td>\n",
       "      <td>8,529,291,769</td>\n",
       "      <td>-</td>\n",
       "      <td>-</td>\n",
       "      <td>-</td>\n",
       "      <td>-</td>\n",
       "      <td>-</td>\n",
       "      <td>2022년 03월 29일</td>\n",
       "      <td>해당사항없음</td>\n",
       "      <td>예</td>\n",
       "    </tr>\n",
       "  </tbody>\n",
       "</table>\n",
       "</div>"
      ],
      "text/plain": [
       "  corp_name        rcept_no  mg_stn mgptncmp_cmpnm      mgptncmp_mbsn  \\\n",
       "0      웨이버스  20220118000162  해당사항없음      주식회사 웨이버스  공간정보 솔루션 개발 및 공급업   \n",
       "\n",
       "    rbsnfdtl_tast  rbsnfdtl_tdbt  rbsnfdtl_teqt nmgcmp_cmpnm ffdtl_tast  \\\n",
       "0  16,305,233,387  7,775,941,618  8,529,291,769            -          -   \n",
       "\n",
       "  ffdtl_tdbt ffdtl_teqt nmgcmp_mbsn      mgsc_mgdt bdlst_atn rs_sm_atn  \n",
       "0          -          -           -  2022년 03월 29일    해당사항없음         예  "
      ]
     },
     "execution_count": 49,
     "metadata": {},
     "output_type": "execute_result"
    }
   ],
   "source": [
    "a"
   ]
  },
  {
   "cell_type": "code",
   "execution_count": 51,
   "id": "1f405e79-2e10-472c-bbdc-f89c70099893",
   "metadata": {},
   "outputs": [],
   "source": [
    "a['year'] = [x[:4] for x in a.rcept_no]\n",
    "a['date'] = [x[:4] + \"-\" + x[4:6] + \"-\" + x[6:8] for x in a.rcept_no]"
   ]
  },
  {
   "cell_type": "code",
   "execution_count": 53,
   "id": "ff26d1f1-9ea4-4080-822f-704788d2fc46",
   "metadata": {},
   "outputs": [],
   "source": [
    "change_dict2 = {\"corp_name\":\"회사명\",\n",
    "                \"year\":\"연도\",\n",
    "                \"date\":\"접수일\",\n",
    "               \"mg_stn\":\"합병형태\",\n",
    "               \"mgptncmp_cmpnm\":\"합병상대회사명\",\n",
    "               \"mgptncmp_mbsn\":\"합병상대회사주요사업\",\n",
    "               \"rbsnfdtl_tast\":\"합병상대회사자산총계\",\n",
    "               \"rbsnfdtl_tdbt\":\"합병상대회사부채총계\",\n",
    "               \"rbsnfdtl_teqt\":\"합병상대회사자본총계\",\n",
    "               \"nmgcmp_cmpnm\":\"신설합병회사\",\n",
    "               \"ffdtl_tast\":\"신설합병회사자산총계\",\n",
    "               \"ffdtl_tdbt\":\"신설합병회사부채총계\",\n",
    "               \"ffdtl_teqt\":\"신설합병회사자본총계\",\n",
    "               \"nmgcmp_mbsn\":\"신설합병회사주요사업\",\n",
    "               \"mgsc_mgdt\":\"합병기일\",\n",
    "               \"bdlst_atn\":\"우회상장해당여부\",\n",
    "               \"rs_sm_atn\":\"증권신고서제출대상여부\"}"
   ]
  },
  {
   "cell_type": "code",
   "execution_count": 56,
   "id": "179fb9b9-0307-4471-baec-fe5add3a2d3e",
   "metadata": {},
   "outputs": [],
   "source": [
    "a = a.loc[:, change_dict2.keys()]\n",
    "a.columns = list(change_dict2.values())"
   ]
  },
  {
   "cell_type": "code",
   "execution_count": null,
   "id": "317fd0dd-b768-47cc-be4c-bfec964517b6",
   "metadata": {},
   "outputs": [],
   "source": []
  },
  {
   "cell_type": "markdown",
   "id": "15147028-a105-424e-808e-0311efe4c3a1",
   "metadata": {},
   "source": [
    "* 자산, 부채, 자본 전부 콤마 제거"
   ]
  },
  {
   "cell_type": "code",
   "execution_count": 92,
   "id": "48a363be-216d-486c-821d-4976d75d4395",
   "metadata": {},
   "outputs": [],
   "source": [
    "def cleansing(x):\n",
    "    output = re.sub(\",\", \"\", x)\n",
    "    return output"
   ]
  },
  {
   "cell_type": "code",
   "execution_count": 90,
   "id": "8d06ea86-e621-4728-a2db-4f008bf60ede",
   "metadata": {},
   "outputs": [],
   "source": [
    "cleansing_cols = ['합병상대회사자산총계',\n",
    "                  '합병상대회사부채총계',\n",
    "                  '합병상대회사자본총계',\n",
    "                  '신설합병회사자산총계',\n",
    "                  '신설합병회사부채총계',\n",
    "                  '신설합병회사자본총계']"
   ]
  },
  {
   "cell_type": "code",
   "execution_count": 83,
   "id": "909f60b1-585c-4e55-a3fc-1f4e40a74583",
   "metadata": {},
   "outputs": [
    {
     "data": {
      "text/plain": [
       "0    16,305,233,387\n",
       "Name: 합병상대회사자산총계, dtype: object"
      ]
     },
     "execution_count": 83,
     "metadata": {},
     "output_type": "execute_result"
    }
   ],
   "source": [
    "a['신설합병회사자본총계']"
   ]
  },
  {
   "cell_type": "code",
   "execution_count": 87,
   "id": "64de5795-c9b8-4219-833b-9690b3082bab",
   "metadata": {},
   "outputs": [
    {
     "data": {
      "text/plain": [
       "'-'"
      ]
     },
     "execution_count": 87,
     "metadata": {},
     "output_type": "execute_result"
    }
   ],
   "source": [
    "a['신설합병회사자본총계'].values[0]"
   ]
  },
  {
   "cell_type": "code",
   "execution_count": 93,
   "id": "d832e72b",
   "metadata": {},
   "outputs": [
    {
     "ename": "TypeError",
     "evalue": "cannot use a string pattern on a bytes-like object",
     "output_type": "error",
     "traceback": [
      "\u001b[1;31m---------------------------------------------------------------------------\u001b[0m",
      "\u001b[1;31mTypeError\u001b[0m                                 Traceback (most recent call last)",
      "\u001b[1;32m~\\AppData\\Local\\Temp\\ipykernel_6664\\3308121470.py\u001b[0m in \u001b[0;36m<module>\u001b[1;34m\u001b[0m\n\u001b[1;32m----> 1\u001b[1;33m \u001b[0mcleansing\u001b[0m\u001b[1;33m(\u001b[0m\u001b[0ma\u001b[0m\u001b[1;33m[\u001b[0m\u001b[1;34m'신설합병회사자본총계'\u001b[0m\u001b[1;33m]\u001b[0m\u001b[1;33m.\u001b[0m\u001b[0mvalues\u001b[0m\u001b[1;33m)\u001b[0m\u001b[1;33m\u001b[0m\u001b[1;33m\u001b[0m\u001b[0m\n\u001b[0m",
      "\u001b[1;32m~\\AppData\\Local\\Temp\\ipykernel_6664\\2804535479.py\u001b[0m in \u001b[0;36mcleansing\u001b[1;34m(x)\u001b[0m\n\u001b[0;32m      1\u001b[0m \u001b[1;32mdef\u001b[0m \u001b[0mcleansing\u001b[0m\u001b[1;33m(\u001b[0m\u001b[0mx\u001b[0m\u001b[1;33m)\u001b[0m\u001b[1;33m:\u001b[0m\u001b[1;33m\u001b[0m\u001b[1;33m\u001b[0m\u001b[0m\n\u001b[1;32m----> 2\u001b[1;33m     \u001b[0moutput\u001b[0m \u001b[1;33m=\u001b[0m \u001b[0mre\u001b[0m\u001b[1;33m.\u001b[0m\u001b[0msub\u001b[0m\u001b[1;33m(\u001b[0m\u001b[1;34m\",\"\u001b[0m\u001b[1;33m,\u001b[0m \u001b[1;34m\"\"\u001b[0m\u001b[1;33m,\u001b[0m\u001b[0mx\u001b[0m\u001b[1;33m)\u001b[0m\u001b[1;33m\u001b[0m\u001b[1;33m\u001b[0m\u001b[0m\n\u001b[0m\u001b[0;32m      3\u001b[0m     \u001b[1;32mtry\u001b[0m\u001b[1;33m:\u001b[0m\u001b[1;33m\u001b[0m\u001b[1;33m\u001b[0m\u001b[0m\n\u001b[0;32m      4\u001b[0m         \u001b[1;32mreturn\u001b[0m \u001b[0mfloat\u001b[0m\u001b[1;33m(\u001b[0m\u001b[0moutput\u001b[0m\u001b[1;33m)\u001b[0m\u001b[1;33m\u001b[0m\u001b[1;33m\u001b[0m\u001b[0m\n\u001b[0;32m      5\u001b[0m     \u001b[1;32mexcept\u001b[0m \u001b[0mTypeError\u001b[0m\u001b[1;33m:\u001b[0m\u001b[1;33m\u001b[0m\u001b[1;33m\u001b[0m\u001b[0m\n",
      "\u001b[1;32mC:\\Windows\\Anaconda3\\lib\\re.py\u001b[0m in \u001b[0;36msub\u001b[1;34m(pattern, repl, string, count, flags)\u001b[0m\n\u001b[0;32m    208\u001b[0m     \u001b[0ma\u001b[0m \u001b[0mcallable\u001b[0m\u001b[1;33m,\u001b[0m \u001b[0mit\u001b[0m\u001b[0;31m'\u001b[0m\u001b[0ms\u001b[0m \u001b[0mpassed\u001b[0m \u001b[0mthe\u001b[0m \u001b[0mMatch\u001b[0m \u001b[0mobject\u001b[0m \u001b[1;32mand\u001b[0m \u001b[0mmust\u001b[0m \u001b[1;32mreturn\u001b[0m\u001b[1;33m\u001b[0m\u001b[1;33m\u001b[0m\u001b[0m\n\u001b[0;32m    209\u001b[0m     a replacement string to be used.\"\"\"\n\u001b[1;32m--> 210\u001b[1;33m     \u001b[1;32mreturn\u001b[0m \u001b[0m_compile\u001b[0m\u001b[1;33m(\u001b[0m\u001b[0mpattern\u001b[0m\u001b[1;33m,\u001b[0m \u001b[0mflags\u001b[0m\u001b[1;33m)\u001b[0m\u001b[1;33m.\u001b[0m\u001b[0msub\u001b[0m\u001b[1;33m(\u001b[0m\u001b[0mrepl\u001b[0m\u001b[1;33m,\u001b[0m \u001b[0mstring\u001b[0m\u001b[1;33m,\u001b[0m \u001b[0mcount\u001b[0m\u001b[1;33m)\u001b[0m\u001b[1;33m\u001b[0m\u001b[1;33m\u001b[0m\u001b[0m\n\u001b[0m\u001b[0;32m    211\u001b[0m \u001b[1;33m\u001b[0m\u001b[0m\n\u001b[0;32m    212\u001b[0m \u001b[1;32mdef\u001b[0m \u001b[0msubn\u001b[0m\u001b[1;33m(\u001b[0m\u001b[0mpattern\u001b[0m\u001b[1;33m,\u001b[0m \u001b[0mrepl\u001b[0m\u001b[1;33m,\u001b[0m \u001b[0mstring\u001b[0m\u001b[1;33m,\u001b[0m \u001b[0mcount\u001b[0m\u001b[1;33m=\u001b[0m\u001b[1;36m0\u001b[0m\u001b[1;33m,\u001b[0m \u001b[0mflags\u001b[0m\u001b[1;33m=\u001b[0m\u001b[1;36m0\u001b[0m\u001b[1;33m)\u001b[0m\u001b[1;33m:\u001b[0m\u001b[1;33m\u001b[0m\u001b[1;33m\u001b[0m\u001b[0m\n",
      "\u001b[1;31mTypeError\u001b[0m: cannot use a string pattern on a bytes-like object"
     ]
    }
   ],
   "source": [
    "cleansing(a['신설합병회사자본총계'].values[0])"
   ]
  },
  {
   "cell_type": "code",
   "execution_count": 80,
   "id": "18b2f8a3-1d86-42d4-8307-1b04b597ae4b",
   "metadata": {},
   "outputs": [
    {
     "data": {
      "text/html": [
       "<div>\n",
       "<style scoped>\n",
       "    .dataframe tbody tr th:only-of-type {\n",
       "        vertical-align: middle;\n",
       "    }\n",
       "\n",
       "    .dataframe tbody tr th {\n",
       "        vertical-align: top;\n",
       "    }\n",
       "\n",
       "    .dataframe thead th {\n",
       "        text-align: right;\n",
       "    }\n",
       "</style>\n",
       "<table border=\"1\" class=\"dataframe\">\n",
       "  <thead>\n",
       "    <tr style=\"text-align: right;\">\n",
       "      <th></th>\n",
       "      <th>합병상대회사자산총계</th>\n",
       "      <th>합병상대회사부채총계</th>\n",
       "      <th>합병상대회사자본총계</th>\n",
       "      <th>신설합병회사자산총계</th>\n",
       "      <th>신설합병회사부채총계</th>\n",
       "      <th>신설합병회사자본총계</th>\n",
       "    </tr>\n",
       "  </thead>\n",
       "  <tbody>\n",
       "    <tr>\n",
       "      <th>0</th>\n",
       "      <td>16,305,233,387</td>\n",
       "      <td>7,775,941,618</td>\n",
       "      <td>8,529,291,769</td>\n",
       "      <td>-</td>\n",
       "      <td>-</td>\n",
       "      <td>-</td>\n",
       "    </tr>\n",
       "  </tbody>\n",
       "</table>\n",
       "</div>"
      ],
      "text/plain": [
       "       합병상대회사자산총계     합병상대회사부채총계     합병상대회사자본총계 신설합병회사자산총계 신설합병회사부채총계  \\\n",
       "0  16,305,233,387  7,775,941,618  8,529,291,769          -          -   \n",
       "\n",
       "  신설합병회사자본총계  \n",
       "0          -  "
      ]
     },
     "execution_count": 80,
     "metadata": {},
     "output_type": "execute_result"
    }
   ],
   "source": [
    "a.loc[:, cleansing_cols]"
   ]
  },
  {
   "cell_type": "code",
   "execution_count": 65,
   "id": "64495681-6724-4b55-bb40-d0fb45e40950",
   "metadata": {},
   "outputs": [
    {
     "data": {
      "text/plain": [
       "[16305233387.0]"
      ]
     },
     "execution_count": 65,
     "metadata": {},
     "output_type": "execute_result"
    }
   ],
   "source": [
    "[cleansing(x) for x in a['합병상대회사자산총계']]"
   ]
  },
  {
   "cell_type": "code",
   "execution_count": 63,
   "id": "6829b4ac-8657-4d48-b4a2-e22721919e70",
   "metadata": {},
   "outputs": [
    {
     "data": {
      "text/plain": [
       "'16305233387'"
      ]
     },
     "execution_count": 63,
     "metadata": {},
     "output_type": "execute_result"
    }
   ],
   "source": [
    "re.sub(\",\", \"\",a['합병상대회사자산총계'].values[0])"
   ]
  },
  {
   "cell_type": "code",
   "execution_count": 60,
   "id": "c2ddfde2-5d5a-4841-b364-143493996101",
   "metadata": {},
   "outputs": [
    {
     "data": {
      "text/plain": [
       "0    16,305,233,387\n",
       "Name: 합병상대회사자산총계, dtype: object"
      ]
     },
     "execution_count": 60,
     "metadata": {},
     "output_type": "execute_result"
    }
   ],
   "source": [
    "a['합병상대회사자산총계']"
   ]
  },
  {
   "cell_type": "code",
   "execution_count": null,
   "id": "1c55fc33-2cf4-4bd8-8b1b-d4f9e44b225a",
   "metadata": {},
   "outputs": [],
   "source": []
  },
  {
   "cell_type": "code",
   "execution_count": null,
   "id": "7c3be8b4-36ad-45ec-81b7-cada54870b72",
   "metadata": {},
   "outputs": [],
   "source": []
  }
 ],
 "metadata": {
  "kernelspec": {
   "display_name": "Python 3 (ipykernel)",
   "language": "python",
   "name": "python3"
  },
  "language_info": {
   "codemirror_mode": {
    "name": "ipython",
    "version": 3
   },
   "file_extension": ".py",
   "mimetype": "text/x-python",
   "name": "python",
   "nbconvert_exporter": "python",
   "pygments_lexer": "ipython3",
   "version": "3.9.13"
  }
 },
 "nbformat": 4,
 "nbformat_minor": 5
}
