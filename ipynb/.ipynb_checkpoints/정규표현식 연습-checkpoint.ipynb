{
 "cells": [
  {
   "cell_type": "markdown",
   "id": "7421b5dd",
   "metadata": {},
   "source": [
    "### STEP0. 라이브러리 가져오기"
   ]
  },
  {
   "cell_type": "code",
   "execution_count": 1,
   "id": "bbc75355",
   "metadata": {},
   "outputs": [],
   "source": [
    "import requests\n",
    "import zipfile\n",
    "import os\n",
    "import pandas as pd\n",
    "import numpy as np\n",
    "import re\n",
    "import math\n",
    "import pickle\n",
    "import warnings\n",
    "import OpenDartReader\n",
    "\n",
    "from bs4 import BeautifulSoup\n",
    "from io import BytesIO\n",
    "from datetime import datetime, timedelta\n",
    "from openpyxl import Workbook\n",
    "from openpyxl.utils.dataframe import dataframe_to_rows\n",
    "from openpyxl.styles import Alignment, PatternFill, colors, Color, Font\n",
    "\n",
    "warnings.filterwarnings(action='ignore')\n",
    "API_KEY = '9ed5bc3d6d1fee4f927c5d6a44eb5368d222824c'\n",
    "# https://dart.fss.or.kr/dsaf001/main.do?rcpNo=20221222000531"
   ]
  },
  {
   "cell_type": "code",
   "execution_count": 2,
   "id": "6a00a35a",
   "metadata": {},
   "outputs": [],
   "source": [
    "dart = OpenDartReader(API_KEY) #\n",
    "\n",
    "def get_table(rcept_no, title):\n",
    "    xml_text = dart.document(rcept_no)\n",
    "    xml_text = xml_text.replace(\"\\n\", \"\")\n",
    "    table_src = re.findall('{}</TITLE>.*?</TABLE-GROUP>'.format(title), xml_text).replace('TE', 'TD').replace('TU', 'TD')\n",
    "    value = pd.read_html(table_src[0])\n",
    "    if len(value) > 1:\n",
    "        value = value[1]\n",
    "    else:\n",
    "        value = value[0]\n",
    "    return value"
   ]
  },
  {
   "cell_type": "markdown",
   "id": "0f6c5708",
   "metadata": {},
   "source": [
    "# re.findall 이용하기(1)"
   ]
  },
  {
   "cell_type": "code",
   "execution_count": 18,
   "id": "ffc46e57",
   "metadata": {},
   "outputs": [],
   "source": [
    "def get_value(rcept_no, tg, txt):\n",
    "    xml_text = dart.document(rcept_no)\n",
    "    xml_text = xml_text.replace(\"\\n\", \"\")\n",
    "    table_group = re.findall('<TABLE-GROUP ACLASS=\"'+tg+'\".*?</TABLE-GROUP>', xml_text, re.DOTALL)[0].replace('TE', 'TD').replace('TU', 'TD')\n",
    "    num = len(re.findall('\"'+txt+'\".*?</TD>', table_group, re.DOTALL))\n",
    "    if num>1 :\n",
    "        value = []\n",
    "        for i in range(num):\n",
    "            value.append(re.findall('\"'+txt+'\".*?</TD>', table_group, re.DOTALL)[0].replace('><','').split('>')[1].split('<')[0])\n",
    "    else :\n",
    "        value = re.findall('\"'+txt+'\".*?</TD>', table_group, re.DOTALL)[0].replace('><','').split('>')[1].split('<')[0]\n",
    "    return value"
   ]
  },
  {
   "cell_type": "code",
   "execution_count": 19,
   "id": "68bd0a79",
   "metadata": {},
   "outputs": [
    {
     "name": "stdout",
     "output_type": "stream",
     "text": [
      "주주배정후 실권주 일반공모\n",
      "143,000\n",
      "8,500,000\n",
      "1,215,500,000,000\n"
     ]
    }
   ],
   "source": [
    "rcept_no = '20221222000531'\n",
    "print(get_value(rcept_no, 'PBO', 'PB_MTH')) # 모집 (매출)방법\n",
    "print(get_value(rcept_no, 'PBO', 'PB_VAL')) # 모집 (매출)가액\n",
    "print(get_value(rcept_no, 'PBO', 'STK_CNT')) # 증권수량\n",
    "print(get_value(rcept_no, 'PBO', 'PB_TOT')) # 모집 (매출)총액"
   ]
  },
  {
   "cell_type": "code",
   "execution_count": 20,
   "id": "43142aa0",
   "metadata": {},
   "outputs": [
    {
     "name": "stdout",
     "output_type": "stream",
     "text": [
      "['대표', '대표', '대표', '대표', '대표', '대표', '대표']\n",
      "['케이비증권', '케이비증권', '케이비증권', '케이비증권', '케이비증권', '케이비증권', '케이비증권']\n",
      "['1,380,000', '1,380,000', '1,380,000', '1,380,000', '1,380,000', '1,380,000', '1,380,000']\n",
      "['인수수수료: 모집총액의 16.24% x 0.4%', '인수수수료: 모집총액의 16.24% x 0.4%', '인수수수료: 모집총액의 16.24% x 0.4%', '인수수수료: 모집총액의 16.24% x 0.4%', '인수수수료: 모집총액의 16.24% x 0.4%', '인수수수료: 모집총액의 16.24% x 0.4%', '인수수수료: 모집총액의 16.24% x 0.4%']\n",
      "['잔액인수', '잔액인수', '잔액인수', '잔액인수', '잔액인수', '잔액인수', '잔액인수']\n"
     ]
    }
   ],
   "source": [
    "print(get_value(rcept_no, 'ACC', 'ACC_KND'))\n",
    "print(get_value(rcept_no, 'ACC', 'ACC_NMT'))\n",
    "print(get_value(rcept_no, 'ACC', 'ACC_CNT'))\n",
    "print(get_value(rcept_no, 'ACC', 'ACC_PRI'))\n",
    "print(get_value(rcept_no, 'ACC', 'ACC_MTH'))"
   ]
  },
  {
   "cell_type": "markdown",
   "id": "065936ab",
   "metadata": {},
   "source": [
    "# re.findall 이용하기(2)"
   ]
  },
  {
   "cell_type": "code",
   "execution_count": 21,
   "id": "c04f737d",
   "metadata": {},
   "outputs": [],
   "source": [
    "rcept_no = '20221222000531'\n",
    "xml_text = dart.document(rcept_no)\n",
    "xml_text = xml_text.replace(\"\\n\", \"\")\n",
    "\n",
    "def get_value(tg, txt):\n",
    "    table_group = re.findall('<TABLE-GROUP ACLASS=\"'+tg+'\".*?</TABLE-GROUP>', xml_text, re.DOTALL)[0].replace('TE', 'TD').replace('TU', 'TD')\n",
    "    num = len(re.findall('\"'+txt+'\".*?</TD>', table_group, re.DOTALL))\n",
    "    if num>1 :\n",
    "        value = []\n",
    "        for i in range(num):\n",
    "            value.append(re.findall('\"'+txt+'\".*?</TD>', table_group, re.DOTALL)[0].replace('><','').split('>')[1].split('<')[0])\n",
    "    else :\n",
    "        value = re.findall('\"'+txt+'\".*?</TD>', table_group, re.DOTALL)[0].replace('><','').split('>')[1].split('<')[0]\n",
    "    return value"
   ]
  },
  {
   "cell_type": "code",
   "execution_count": 22,
   "id": "d6682690",
   "metadata": {},
   "outputs": [
    {
     "name": "stdout",
     "output_type": "stream",
     "text": [
      "주주배정후 실권주 일반공모\n",
      "143,000\n",
      "8,500,000\n",
      "1,215,500,000,000\n"
     ]
    }
   ],
   "source": [
    "print(get_value('PBO', 'PB_MTH')) # 모집 (매출)방법\n",
    "print(get_value('PBO', 'PB_VAL')) # 모집 (매출)가액\n",
    "print(get_value('PBO', 'STK_CNT')) # 증권수량\n",
    "print(get_value('PBO', 'PB_TOT')) # 모집 (매출)총액"
   ]
  },
  {
   "cell_type": "code",
   "execution_count": 24,
   "id": "cc6fc26b",
   "metadata": {},
   "outputs": [
    {
     "name": "stdout",
     "output_type": "stream",
     "text": [
      "['대표', '대표', '대표', '대표', '대표', '대표', '대표']\n",
      "['케이비증권', '케이비증권', '케이비증권', '케이비증권', '케이비증권', '케이비증권', '케이비증권']\n",
      "['1,380,000', '1,380,000', '1,380,000', '1,380,000', '1,380,000', '1,380,000', '1,380,000']\n",
      "['인수수수료: 모집총액의 16.24% x 0.4%', '인수수수료: 모집총액의 16.24% x 0.4%', '인수수수료: 모집총액의 16.24% x 0.4%', '인수수수료: 모집총액의 16.24% x 0.4%', '인수수수료: 모집총액의 16.24% x 0.4%', '인수수수료: 모집총액의 16.24% x 0.4%', '인수수수료: 모집총액의 16.24% x 0.4%']\n",
      "['잔액인수', '잔액인수', '잔액인수', '잔액인수', '잔액인수', '잔액인수', '잔액인수']\n"
     ]
    }
   ],
   "source": [
    "print(get_value('ACC', 'ACC_KND'))\n",
    "print(get_value('ACC', 'ACC_NMT'))\n",
    "print(get_value('ACC', 'ACC_CNT'))\n",
    "print(get_value('ACC', 'ACC_PRI'))\n",
    "print(get_value('ACC', 'ACC_MTH'))"
   ]
  },
  {
   "cell_type": "markdown",
   "id": "6b8e25e2",
   "metadata": {},
   "source": [
    "# BeautifulSoup 이용하기"
   ]
  },
  {
   "cell_type": "code",
   "execution_count": 14,
   "id": "8be32e24",
   "metadata": {},
   "outputs": [],
   "source": [
    "url = 'https://opendart.fss.or.kr/api/document.xml'\n",
    "params = {'crtfc_key': API_KEY, 'rcept_no': '20221222000531'}\n",
    "response = requests.get(url, params=params)\n",
    "\n",
    "zf = zipfile.ZipFile(BytesIO(response.content))\n",
    "z_list = zf.namelist()\n",
    "file = zf.read(z_list[0]) \n",
    "\n",
    "soup = BeautifulSoup(file, 'html.parser', from_encoding='utf-8')"
   ]
  },
  {
   "cell_type": "code",
   "execution_count": 15,
   "id": "52f84fd2",
   "metadata": {},
   "outputs": [],
   "source": [
    "table1 = soup.find('table-group', attrs={'aclass':'PBO'})\n",
    "table2 = soup.find('table-group', attrs={'aclass':'ACC'})\n",
    "pb_mth = table1.find('tu', attrs={'aunit':'PB_MTH'}).get_text() # 모집 (매출)방법\n",
    "pb_val = table1.find('te', attrs={'acode':'PB_VAL'}).get_text() # 모집 (매출)가액\n",
    "stk_cnt = table1.find('te', attrs={'acode':'STK_CNT'}).get_text() # 증권수량\n",
    "pb_tot = table1.find('te', attrs={'acode':'PB_TOT'}).get_text() # 모집 (매출)총액"
   ]
  },
  {
   "cell_type": "code",
   "execution_count": 16,
   "id": "228e7320",
   "metadata": {},
   "outputs": [],
   "source": [
    "num = len(table2.find_all('tu', attrs={'aunit':'ACC_KND'}))\n",
    "acc_nmt1 = []\n",
    "acc_cnt1 = []\n",
    "acc_pri1 = []\n",
    "acc_mth1 = []\n",
    "\n",
    "for j in range(num):\n",
    "    if '대표' in table2.find_all('tu', attrs={'aunit':'ACC_KND'})[j].get_text():\n",
    "        acc_nmt1.append(table2.find_all('tu', attrs={'aunit':'ACC_NMT'})[j].get_text())\n",
    "        acc_cnt1.append(table2.find_all('te', attrs={'acode':'ACC_CNT'})[j].get_text().strip().replace(',','')[:-4])\n",
    "        acc_pri1.append(table2.find_all('te', attrs={'acode':'ACC_PRI'})[j].get_text())\n",
    "        acc_mth1.append(table2.find_all('te', attrs={'acode':'ACC_MTH'})[j].get_text())"
   ]
  },
  {
   "cell_type": "code",
   "execution_count": 17,
   "id": "849bb185",
   "metadata": {},
   "outputs": [
    {
     "name": "stdout",
     "output_type": "stream",
     "text": [
      "주주배정후 실권주 일반공모\n",
      "143,000\n",
      "8,500,000\n",
      "1,215,500,000,000\n",
      "['케이비증권', '삼성증권', '하나증권', '신한투자증권', 'NH투자증권', '미래에셋증권', '유안타증권']\n",
      "['138', '138', '136', '135', '105', '102', '96']\n",
      "['\\n인수수수료: 모집총액의 16.24% x 0.4%\\n', '\\n인수수수료: 모집총액의 16.24% x 0.4%\\n', '\\n인수수수료: 모집총액의 16.00% x 0.4%\\n', '\\n인수수수료: 모집총액의 15.88% x 0.4%\\n', '\\n인수수수료: 모집총액의 12.35% x 0.4%\\n', '\\n인수수수료: 모집총액의 12.00% x 0.4%\\n', '\\n인수수수료: 모집총액의 11.29% x 0.4%\\n']\n",
      "['잔액인수', '잔액인수', '잔액인수', '잔액인수', '잔액인수', '잔액인수', '잔액인수']\n"
     ]
    }
   ],
   "source": [
    "print(pb_mth)\n",
    "print(pb_val)\n",
    "print(stk_cnt)\n",
    "print(pb_tot)\n",
    "print(acc_nmt1)\n",
    "print(acc_cnt1)\n",
    "print(acc_pri1)\n",
    "print(acc_mth1)"
   ]
  },
  {
   "cell_type": "code",
   "execution_count": null,
   "id": "2e332bb7",
   "metadata": {},
   "outputs": [],
   "source": []
  },
  {
   "cell_type": "code",
   "execution_count": null,
   "id": "be16c13c",
   "metadata": {},
   "outputs": [],
   "source": []
  }
 ],
 "metadata": {
  "kernelspec": {
   "display_name": "Python 3 (ipykernel)",
   "language": "python",
   "name": "python3"
  },
  "language_info": {
   "codemirror_mode": {
    "name": "ipython",
    "version": 3
   },
   "file_extension": ".py",
   "mimetype": "text/x-python",
   "name": "python",
   "nbconvert_exporter": "python",
   "pygments_lexer": "ipython3",
   "version": "3.8.9"
  }
 },
 "nbformat": 4,
 "nbformat_minor": 5
}
