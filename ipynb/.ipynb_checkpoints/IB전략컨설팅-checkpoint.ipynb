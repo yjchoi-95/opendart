{
 "cells": [
  {
   "cell_type": "markdown",
   "id": "8c8942de-0da7-4d1c-9b9a-c5ee32614b81",
   "metadata": {},
   "source": [
    "## Import"
   ]
  },
  {
   "cell_type": "code",
   "execution_count": 1,
   "id": "a9b7ce56-b502-479c-af72-45e8a80790b2",
   "metadata": {},
   "outputs": [],
   "source": [
    "from selenium.webdriver.chrome.options import Options\n",
    "from selenium.webdriver.chrome.service import Service\n",
    "from webdriver_manager.chrome import ChromeDriverManager\n",
    "from selenium.webdriver.support.ui import WebDriverWait\n",
    "from selenium.webdriver.common.by import By\n",
    "from selenium.webdriver.common.keys import Keys\n",
    "from selenium.webdriver.support import expected_conditions as EC\n",
    "from selenium.common.exceptions import ElementNotInteractableException\n",
    "from selenium import webdriver\n",
    "from tqdm import tqdm\n",
    "from bs4 import BeautifulSoup\n",
    "\n",
    "import requests\n",
    "import streamlit as st\n",
    "import pandas as pd\n",
    "import numpy as np\n",
    "import OpenDartReader\n",
    "import warnings\n",
    "import time, datetime\n",
    "import re, os\n",
    "\n",
    "warnings.filterwarnings('ignore')"
   ]
  },
  {
   "cell_type": "code",
   "execution_count": null,
   "id": "efdd8a12-76b0-4939-bf7d-13d8ff681c48",
   "metadata": {},
   "outputs": [],
   "source": []
  },
  {
   "cell_type": "markdown",
   "id": "758c463f-34d8-4761-b2c5-a8947a36b5b7",
   "metadata": {},
   "source": [
    "* functions"
   ]
  },
  {
   "cell_type": "code",
   "execution_count": 2,
   "id": "e7a67c5e-410f-4f1c-917e-8d2dca432fcb",
   "metadata": {},
   "outputs": [],
   "source": [
    "def set_num(x):\n",
    "    if type(x) != str:\n",
    "        return x\n",
    "    else:\n",
    "        return float(re.sub(\"[^0-9]\", \"\", x))\n",
    "    \n",
    "def get_kind(driver, code, FIRST = True):\n",
    "    ## 01. 회사명 검색하기\n",
    "    name_element = driver.find_element(By.ID, 'AKCKwd')\n",
    "    name_element.click()\n",
    "    name_element.clear()\n",
    "    time.sleep(0.1)\n",
    "    name_element.send_keys(code)\n",
    "\n",
    "    if FIRST:\n",
    "        ## 02. 신규상장만 활용\n",
    "        check_box = '/html/body/section[2]/section/form/section/div/div[1]/table/tbody/tr[7]/td/label[{}]'\n",
    "\n",
    "        for idx in range(4):\n",
    "            driver.find_element(By.XPATH, check_box.format(idx+2)).click()\n",
    "\n",
    "        time.sleep(0.1)\n",
    "\n",
    "    ## 03. 기간 전체 설정\n",
    "    driver.find_element(By.CLASS_NAME, 'ord-07').click()\n",
    "\n",
    "    ## 04. 검색 시작\n",
    "    search_element = driver.find_element(By.CLASS_NAME, 'btn-sprite.type-00.vmiddle.search-btn')\n",
    "    search_element.click()\n",
    "    time.sleep(1.5)\n",
    "\n",
    "    ### 모든 데이터 수집\n",
    "    temp_df = pd.read_html(driver.page_source)\n",
    "    listing_df = [x for x in temp_df if \"회사명\" in x and \"상장유형\" in x][0]\n",
    "\n",
    "    if listing_df.shape[0] != 0:\n",
    "        driver.find_element(By.CSS_SELECTOR, '#main-contents > section.scrarea.type-00 > table > tbody > tr').click()\n",
    "        time.sleep(0.25)\n",
    "\n",
    "        driver.switch_to.window(driver.window_handles[1])\n",
    "        wait = WebDriverWait(driver, 10, poll_frequency=0.25)\n",
    "        wait.until(EC.presence_of_element_located((By.CLASS_NAME, \"btn-sprite.type-98.vmiddle\")))\n",
    "        \n",
    "        time.sleep(0.5)\n",
    "        # 상장주식수\n",
    "        l_cnt = driver.find_element(By.CSS_SELECTOR, '#tab-contents > table:nth-child(3) > tbody > tr:nth-child(9) > td:nth-child(2)')\n",
    "        l_cnt = int(re.sub(\"[^0-9]\", \"\", l_cnt.text))\n",
    "\n",
    "        # 유통가능주식수\n",
    "        c_cnt = driver.find_element(By.CSS_SELECTOR, '#tab-contents > table:nth-child(3) > tbody > tr:nth-child(10) > td.txr')\n",
    "        c_cnt = int(re.sub(\"[^0-9]\", \"\", c_cnt.text))\n",
    "\n",
    "        # 주요 제품\n",
    "        m_product = driver.find_element(By.CSS_SELECTOR, \"#tab-contents > table:nth-child(3) > tbody > tr:nth-child(6) > td\").text\n",
    "\n",
    "        try:\n",
    "            # switch tab\n",
    "            driver.find_element(By.XPATH, '/html/body/form/section/nav/ul/li[2]/a').click()\n",
    "            time.sleep(0.25)\n",
    "\n",
    "            wait = WebDriverWait(driver, 10, poll_frequency=0.25)\n",
    "            wait.until(EC.presence_of_element_located((By.CSS_SELECTOR, \"#tab-contents > table:nth-child(15) > tbody > tr:nth-child(2) > td:nth-child(2)\")))\n",
    "            \n",
    "        except ElementNotInteractableException:\n",
    "            col_names = [x+\"매출액\" + \"({})\".format(y) for x, y in zip(['전전연도', '직전연도', '당해연도'], ['T-2', 'T-1', 'T'])]\n",
    "            col_names.extend([x+\"영업이익\" + \"({})\".format(y) for x, y in zip(['전전연도', '직전연도', '당해연도'], ['T-2', 'T-1', 'T'])])\n",
    "            col_names.extend([x+\"당기순이익\" + \"({})\".format(y) for x, y in zip(['전전연도', '직전연도', '당해연도'], ['T-2', 'T-1', 'T'])])\n",
    "\n",
    "            listing_df['종목코드'] = code\n",
    "            listing_df['상장주식수'] = l_cnt\n",
    "            listing_df['유통가능주식수'] = c_cnt\n",
    "            listing_df['주요제품'] = m_product\n",
    "            listing_df.index = [0]\n",
    "\n",
    "            df_change = pd.DataFrame.from_dict({x:['-'] for x in col_names})\n",
    "            df_change.index = [0]\n",
    "\n",
    "            second_df = pd.concat([listing_df, df_change], axis = 1)\n",
    "            \n",
    "            driver.close()\n",
    "            driver.switch_to.window(driver.window_handles[0])\n",
    "\n",
    "            \n",
    "            return second_df\n",
    "\n",
    "        dfs = pd.read_html(driver.page_source, header=0)\n",
    "\n",
    "        try:\n",
    "            get_idx = [idx for idx, x in enumerate(dfs) if \"매출액(수익)\" in list(x['항목']) and \"영업이익(손실)\" in list(x['항목']) and \"당기순이익(손실)\" in list(x['항목'])][0]\n",
    "        except:\n",
    "            get_idx = 1\n",
    "            \n",
    "        df = dfs[get_idx]\n",
    "        df = df.loc[df['항목'].isin(['매출액(수익)', '영업이익(손실)', '당기순이익(손실)'])]\n",
    "\n",
    "        if df.shape[0] != 3:\n",
    "            except_values = [x for x in ['매출액(수익)', '영업이익(손실)', '당기순이익(손실)'] if x not in list(df['항목'])]\n",
    "            append_df = pd.DataFrame({\"항목\":[x for x in except_values],\n",
    "                          df.columns[1]:['-' for x in range(len(except_values))],\n",
    "                          df.columns[2]:['-' for x in range(len(except_values))],\n",
    "                          df.columns[3]:['-' for x in range(len(except_values))]})\n",
    "            df = pd.concat([df, append_df])\n",
    "            df['항목'] = df['항목'].astype(\"category\")\n",
    "            df['항목'] = df['항목'].cat.set_categories(['매출액(수익)', '영업이익(손실)', '당기순이익(손실)'])\n",
    "            df = df.sort_values(\"항목\")\n",
    "\n",
    "        driver.close()\n",
    "        driver.switch_to.window(driver.window_handles[0])\n",
    "        \n",
    "        col_names = [x+\"매출액\" + \"({})\".format(y) for x, y in zip(['전전연도', '직전연도', '당해연도'], ['T-2', 'T-1', 'T'])]\n",
    "        col_names.extend([x+\"영업이익\" + \"({})\".format(y) for x, y in zip(['전전연도', '직전연도', '당해연도'], ['T-2', 'T-1', 'T'])])\n",
    "        col_names.extend([x+\"당기순이익\" + \"({})\".format(y) for x, y in zip(['전전연도', '직전연도', '당해연도'], ['T-2', 'T-1', 'T'])])\n",
    "        \n",
    "        listing_df['종목코드'] = code\n",
    "        listing_df['상장주식수'] = l_cnt\n",
    "        listing_df['유통가능주식수'] = c_cnt\n",
    "        listing_df['주요제품'] = m_product\n",
    "        listing_df.index = [0]\n",
    "        \n",
    "        df_change = pd.DataFrame.from_dict({x:[y] for x,y in zip(col_names, np.array(df.iloc[:, 1:]).reshape(1, -1)[0])})\n",
    "        df_change.index = [0]\n",
    "        \n",
    "        second_df = pd.concat([listing_df, df_change], axis = 1)\n",
    "        \n",
    "    return second_df"
   ]
  },
  {
   "cell_type": "code",
   "execution_count": 3,
   "id": "22c348e6-9d4b-474a-bd75-ddee5c0a926b",
   "metadata": {},
   "outputs": [],
   "source": [
    "def change_corp(x):\n",
    "    if \"모간스탠리\" in x : return \"MS\"\n",
    "    elif \"골드\" in x : return \"골드만\"\n",
    "    elif \"씨티\" in x : return \"씨티\"\n",
    "    elif \"메릴\" in x : return \"메릴린치\"\n",
    "    elif \"케이비\" in x : return \"KB\"\n",
    "    elif \"아이비케이\" in x : return \"IBK\"\n",
    "    elif \"에스케이\" in x : return \"SK\"\n",
    "    elif \"디비금융\" in x : return \"DB\"\n",
    "    else: return x.replace(\"투자\", \"\").replace(\"금융\", \"\").replace(\"증권\", \"\").replace(\"에셋\", \"\").replace(\"(주)\", \"\").replace(\"㈜\", \"\")\n",
    "\n",
    "def get_case(x):\n",
    "    if \"공동대표\" in x: return \"공동대표\"\n",
    "    elif \"공동주관\" in x: return \"공동\"\n",
    "    elif \"대표\" in x: return \"대표\"\n",
    "    elif \"인수\" in x : return \"인수\"\n",
    "    else: return \"대표\""
   ]
  },
  {
   "cell_type": "code",
   "execution_count": null,
   "id": "027fae2f-00ed-4327-bf39-0e5f3de2c78c",
   "metadata": {},
   "outputs": [],
   "source": []
  },
  {
   "cell_type": "markdown",
   "id": "4e39f977-ed27-4919-99c0-6b9733e4e479",
   "metadata": {},
   "source": [
    "* API Setting"
   ]
  },
  {
   "cell_type": "code",
   "execution_count": 4,
   "id": "9a871994-8b80-4c29-af8f-4050f6561f5b",
   "metadata": {},
   "outputs": [],
   "source": [
    "api_key = '1b39652cef07f626c9d37375edf582ee51b1407f'\n",
    "dart = OpenDartReader(api_key)"
   ]
  },
  {
   "cell_type": "code",
   "execution_count": null,
   "id": "e8d1311c-292b-45c9-b3ab-1ea40dbed2d2",
   "metadata": {},
   "outputs": [],
   "source": []
  },
  {
   "cell_type": "markdown",
   "id": "b2bdd9d9-1eaf-440e-aaa3-0fdddf549702",
   "metadata": {},
   "source": [
    "* 최종 결과물 형태 제작"
   ]
  },
  {
   "cell_type": "code",
   "execution_count": 5,
   "id": "0ec76923-b74c-4092-b585-888e784e4671",
   "metadata": {},
   "outputs": [],
   "source": [
    "results_df = pd.DataFrame(np.empty((0, 25)))\n",
    "\n",
    "col_names = [x+\"매출액\" + \"({})\".format(y) for x, y in zip(['전전연도', '직전연도', '당해연도'], ['T-2', 'T-1', 'T'])]\n",
    "col_names.extend([x+\"영업이익\" + \"({})\".format(y) for x, y in zip(['전전연도', '직전연도', '당해연도'], ['T-2', 'T-1', 'T'])])\n",
    "col_names.extend([x+\"당기순이익\" + \"({})\".format(y) for x, y in zip(['전전연도', '직전연도', '당해연도'], ['T-2', 'T-1', 'T'])])\n",
    "\n",
    "tot_cols = ['수요예측(시작일)', '수요예측(종료일)', '상장예정일', '대표주관사', '회사명', '공모주식수',\n",
    "            '신주모집수', '구주매출', '하단공모가액', '상단공모가액', '상장예정주식수', '유통주식수', '확정공모가액',\n",
    "            '수요예측경쟁률', '확약률']\n",
    "tot_cols.extend(col_names)\n",
    "tot_cols.extend(['주요제품'])\n",
    "\n",
    "results_df.columns = tot_cols"
   ]
  },
  {
   "cell_type": "code",
   "execution_count": null,
   "id": "c3d69a41-2e8c-48f7-8b92-55b98ac40e5e",
   "metadata": {},
   "outputs": [],
   "source": []
  },
  {
   "cell_type": "markdown",
   "id": "78ee0d2f-3f05-4d94-9c21-20ff353f813f",
   "metadata": {},
   "source": [
    "* 38.co.kr - 외부 수집"
   ]
  },
  {
   "cell_type": "code",
   "execution_count": 6,
   "id": "43cbf90e-0464-4fd9-95c5-48dc7b9fe552",
   "metadata": {},
   "outputs": [],
   "source": [
    "start_dt = '2023-07-01'\n",
    "end_dt = '2023-07-31'"
   ]
  },
  {
   "cell_type": "code",
   "execution_count": 7,
   "id": "63784031-fdb2-4953-b4b9-dd802d954797",
   "metadata": {},
   "outputs": [],
   "source": [
    "cnt = 0\n",
    "max_page = 20\n",
    "\n",
    "for page in range(1, max_page+1):\n",
    "    outer_url = 'http://www.38.co.kr/html/fund/index.htm?o=r1&page={}'.format(page)\n",
    "    base_url = 'http://www.38.co.kr/html/fund'\n",
    "    \n",
    "    response = requests.get(outer_url)\n",
    "    soup = BeautifulSoup(response.text, 'html.parser')\n",
    "    tb_src = soup.select('table[summary=\"수요예측결과\"]')\n",
    "    \n",
    "    temp_df = pd.read_html(str(tb_src))[0]\n",
    "    temp_df = temp_df.loc[~temp_df['기업명'].isna()]\n",
    "    \n",
    "    if cnt == 0:\n",
    "        url_tags = soup.select('tbody > tr > td > a')\n",
    "        temp_df['url'] = [base_url + x.attrs['href'].split(\".\")[-1] for x in url_tags]\n",
    "        outer_df = temp_df\n",
    "\n",
    "    else:\n",
    "        url_tags = soup.select('tbody > tr > td > a')\n",
    "        temp_df['url'] = [base_url + x.attrs['href'].split(\".\")[-1] for x in url_tags]\n",
    "        outer_df = pd.concat([outer_df, temp_df])\n",
    "        \n",
    "    cnt += 1\n",
    "    \n",
    "outer_df = outer_df.loc[(outer_df['예측일'] >= start_dt.replace(\"-\", \".\")) & (outer_df['예측일'] <= end_dt.replace(\"-\", \".\"))]"
   ]
  },
  {
   "cell_type": "code",
   "execution_count": 8,
   "id": "a96907db-c7dc-4669-87e0-186e029fc818",
   "metadata": {},
   "outputs": [
    {
     "data": {
      "text/html": [
       "<div>\n",
       "<style scoped>\n",
       "    .dataframe tbody tr th:only-of-type {\n",
       "        vertical-align: middle;\n",
       "    }\n",
       "\n",
       "    .dataframe tbody tr th {\n",
       "        vertical-align: top;\n",
       "    }\n",
       "\n",
       "    .dataframe thead th {\n",
       "        text-align: right;\n",
       "    }\n",
       "</style>\n",
       "<table border=\"1\" class=\"dataframe\">\n",
       "  <thead>\n",
       "    <tr style=\"text-align: right;\">\n",
       "      <th></th>\n",
       "      <th>기업명</th>\n",
       "      <th>예측일</th>\n",
       "      <th>공모희망가(원)</th>\n",
       "      <th>공모가(원)</th>\n",
       "      <th>공모금액 (백만원)</th>\n",
       "      <th>기관 경쟁률</th>\n",
       "      <th>의무보유 확약</th>\n",
       "      <th>주간사</th>\n",
       "      <th>url</th>\n",
       "    </tr>\n",
       "  </thead>\n",
       "  <tbody>\n",
       "    <tr>\n",
       "      <th>1</th>\n",
       "      <td>뷰티스킨</td>\n",
       "      <td>2023.07.10</td>\n",
       "      <td>21,000~24,000</td>\n",
       "      <td>26000.0</td>\n",
       "      <td>-</td>\n",
       "      <td>1819.7 :1</td>\n",
       "      <td>10.93%</td>\n",
       "      <td>DB금융투자</td>\n",
       "      <td>http://www.38.co.kr/html/fund/?o=v&amp;no=1942&amp;l=&amp;...</td>\n",
       "    </tr>\n",
       "    <tr>\n",
       "      <th>2</th>\n",
       "      <td>SK증권스팩9호</td>\n",
       "      <td>2023.07.06</td>\n",
       "      <td>2,000~2,000</td>\n",
       "      <td>2000.0</td>\n",
       "      <td>8000</td>\n",
       "      <td>1,002.51:1</td>\n",
       "      <td>3.54%</td>\n",
       "      <td>SK증권</td>\n",
       "      <td>http://www.38.co.kr/html/fund/?o=v&amp;no=1953&amp;l=&amp;...</td>\n",
       "    </tr>\n",
       "    <tr>\n",
       "      <th>3</th>\n",
       "      <td>센서뷰</td>\n",
       "      <td>2023.07.03</td>\n",
       "      <td>2,900~3,600</td>\n",
       "      <td>4500.0</td>\n",
       "      <td>11310</td>\n",
       "      <td>1,673.33:1</td>\n",
       "      <td>7.41%</td>\n",
       "      <td>삼성증권</td>\n",
       "      <td>http://www.38.co.kr/html/fund/?o=v&amp;no=1936&amp;l=&amp;...</td>\n",
       "    </tr>\n",
       "    <tr>\n",
       "      <th>4</th>\n",
       "      <td>와이랩</td>\n",
       "      <td>2023.07.03</td>\n",
       "      <td>7,000~8,000</td>\n",
       "      <td>9000.0</td>\n",
       "      <td>21000</td>\n",
       "      <td>1821.64:1</td>\n",
       "      <td>14.72%</td>\n",
       "      <td>한국투자증권</td>\n",
       "      <td>http://www.38.co.kr/html/fund/?o=v&amp;no=1939&amp;l=&amp;...</td>\n",
       "    </tr>\n",
       "  </tbody>\n",
       "</table>\n",
       "</div>"
      ],
      "text/plain": [
       "        기업명         예측일       공모희망가(원)   공모가(원) 공모금액 (백만원)      기관 경쟁률  \\\n",
       "1      뷰티스킨  2023.07.10  21,000~24,000  26000.0          -   1819.7 :1   \n",
       "2  SK증권스팩9호  2023.07.06    2,000~2,000   2000.0       8000  1,002.51:1   \n",
       "3       센서뷰  2023.07.03    2,900~3,600   4500.0      11310  1,673.33:1   \n",
       "4       와이랩  2023.07.03    7,000~8,000   9000.0      21000   1821.64:1   \n",
       "\n",
       "  의무보유 확약     주간사                                                url  \n",
       "1  10.93%  DB금융투자  http://www.38.co.kr/html/fund/?o=v&no=1942&l=&...  \n",
       "2   3.54%    SK증권  http://www.38.co.kr/html/fund/?o=v&no=1953&l=&...  \n",
       "3   7.41%    삼성증권  http://www.38.co.kr/html/fund/?o=v&no=1936&l=&...  \n",
       "4  14.72%  한국투자증권  http://www.38.co.kr/html/fund/?o=v&no=1939&l=&...  "
      ]
     },
     "execution_count": 8,
     "metadata": {},
     "output_type": "execute_result"
    }
   ],
   "source": [
    "outer_df.head()"
   ]
  },
  {
   "cell_type": "code",
   "execution_count": null,
   "id": "b026f794-3137-4827-88c1-103b55762c7e",
   "metadata": {},
   "outputs": [],
   "source": []
  },
  {
   "cell_type": "markdown",
   "id": "59224f5c-04e3-450a-be50-00000ae03bff",
   "metadata": {},
   "source": [
    "* 38.co.kr - 내부 수집"
   ]
  },
  {
   "cell_type": "code",
   "execution_count": 9,
   "id": "0c9af91a-4059-44ec-bcc4-5b5ded6904a0",
   "metadata": {
    "tags": []
   },
   "outputs": [],
   "source": [
    "def get_38df(soup, x):\n",
    "    return pd.read_html(str(soup.select('table[summary=\"{}\"]'.format(x))[0]))[0]\n",
    "\n",
    "def get_values(soup):\n",
    "    table_src = soup.select('table[bgcolor=\"#C2D2DF\"]')\n",
    "    table_src = [str(x) for x in table_src]\n",
    "    table_src2 = [x for x in table_src if (\"자산가치\" in x) or (\"수익가치\" in x) or (\"본질가치\" in x)]\n",
    "    dfs = [pd.read_html(x)[0] for x in table_src2]\n",
    "    \n",
    "    if len(dfs) > 0:\n",
    "        return dfs\n",
    "    else:\n",
    "        return [None, None, None]"
   ]
  },
  {
   "cell_type": "code",
   "execution_count": 14,
   "id": "38207afb-6ed2-4049-bf5b-150ff50f29c4",
   "metadata": {},
   "outputs": [],
   "source": [
    "data_dict = {x:[] for x in ['종목코드', '수요예측(시작일)', '수요예측(종료일)', '상장예정일', '기업명', '공모주식수', '신주모집수','구주매출', '하단공모가액', '상단공모가액', '확정공모가액']}\n",
    "    \n",
    "for name, url in zip(outer_df['기업명'], outer_df['url']):\n",
    "    response = requests.get(url)\n",
    "    soup = BeautifulSoup(response.text, 'html.parser')\n",
    "    \n",
    "    overview_df = get_38df(soup, '기업개요')\n",
    "    overview_df.columns = [\"O\" + str(x) for x in range(overview_df.shape[1])]\n",
    "    \n",
    "    inform_df = get_38df(soup, '공모정보')\n",
    "    inform_df.columns = [\"I\" + str(x) for x in range(inform_df.shape[1])]\n",
    "    \n",
    "    cal_df = get_38df(soup, '공모청약일정')\n",
    "    cal_df.columns = [\"C\" + str(x) for x in range(cal_df.shape[1])]\n",
    "    \n",
    "    # 종목 코드\n",
    "    code = overview_df.loc[overview_df.O2 == '종목코드', 'O3'].values[0]\n",
    "    \n",
    "    # 수요 예측일\n",
    "    p_start, p_end = cal_df.loc[cal_df.C1 == '수요예측일', 'C2'].values[0].split(\" ~ \")\n",
    "    \n",
    "    # 상장일\n",
    "    l_date = cal_df.loc[cal_df.C1 == '상장일', 'C2'].values[0]\n",
    "    \n",
    "    # 공모주식수\n",
    "    t_cnt = int(re.sub(\"[^0-9]\", \"\",inform_df.loc[inform_df.I0 == '총공모주식수', 'I1'].values[0]))\n",
    "    \n",
    "    # 신주모집수, 구주모집수\n",
    "    try:\n",
    "        new_cnt, old_cnt = re.findall('(?<=:)(.*?)(?=주)', inform_df.loc[inform_df.I0 == '상장공모', 'I1'].values[0])\n",
    "        if type(new_cnt) == str:\n",
    "            new_cnt = int(re.sub(\"[^0-9]\", \"\", new_cnt))\n",
    "        if type(old_cnt) == str:\n",
    "            old_cnt = int(re.sub(\"[^0-9]\", \"\", old_cnt))\n",
    "        \n",
    "    except:\n",
    "        new_cnt = re.findall('(?<=:)(.*?)(?=주)', inform_df.loc[inform_df.I0 == '상장공모', 'I1'].values[0])[0]\n",
    "        if type(new_cnt) == str:\n",
    "            new_cnt = int(re.sub(\"[^0-9]\", \"\", new_cnt))\n",
    "        old_cnt = 0\n",
    "    \n",
    "    # 하단공모가액, 상단공모가액\n",
    "    lower, upper = [int(re.sub(\"[^0-9]\", \"\", x)) for x in inform_df.loc[inform_df.I0 == '희망공모가액', 'I1'].values[0].split(\" ~ \")]\n",
    "    \n",
    "    # 확정공모가액\n",
    "    f_price = int(re.sub(\"[^0-9]\", \"\", inform_df.loc[inform_df.I0 == '확정공모가', 'I1'].values[0]))\n",
    "    \n",
    "    data_dict['종목코드'].append(code)\n",
    "    data_dict['수요예측(시작일)'].append(p_start)\n",
    "    data_dict['수요예측(종료일)'].append(p_end)\n",
    "    data_dict['상장예정일'].append(l_date)\n",
    "    data_dict['기업명'].append(name)\n",
    "    data_dict['공모주식수'].append(t_cnt)\n",
    "    data_dict['신주모집수'].append(new_cnt)\n",
    "    data_dict['구주매출'].append(old_cnt)\n",
    "    data_dict['하단공모가액'].append(lower)\n",
    "    data_dict['상단공모가액'].append(upper)\n",
    "    data_dict['확정공모가액'].append(f_price)\n",
    "\n",
    "right_df = outer_df.loc[:, ['기업명', '기관 경쟁률', '의무보유 확약', '공모금액 (백만원)']]\n",
    "left_df = pd.DataFrame.from_dict(data_dict)\n",
    "first_df = pd.merge(left_df, right_df, on = '기업명', how = 'inner')"
   ]
  },
  {
   "cell_type": "code",
   "execution_count": 11,
   "id": "36d47588-003f-4464-8887-a1d9856306be",
   "metadata": {},
   "outputs": [],
   "source": [
    "today = datetime.datetime.today()\n",
    "today = \"{}.{:02d}.{}\".format(today.year, today.month, today.day)"
   ]
  },
  {
   "cell_type": "code",
   "execution_count": 16,
   "id": "14348d54-f16d-43be-ba31-a56cda1a9fdf",
   "metadata": {},
   "outputs": [],
   "source": [
    "#first_df = first_df.loc[first_df['상장예정일'] <= today]\n",
    "first_df = first_df.loc[first_df['수요예측(시작일)'] <= today]\n",
    "first_df.index = range(0, first_df.shape[0])"
   ]
  },
  {
   "cell_type": "code",
   "execution_count": 17,
   "id": "fb01babc-1160-49f8-987f-411074434e00",
   "metadata": {},
   "outputs": [
    {
     "data": {
      "text/html": [
       "<div>\n",
       "<style scoped>\n",
       "    .dataframe tbody tr th:only-of-type {\n",
       "        vertical-align: middle;\n",
       "    }\n",
       "\n",
       "    .dataframe tbody tr th {\n",
       "        vertical-align: top;\n",
       "    }\n",
       "\n",
       "    .dataframe thead th {\n",
       "        text-align: right;\n",
       "    }\n",
       "</style>\n",
       "<table border=\"1\" class=\"dataframe\">\n",
       "  <thead>\n",
       "    <tr style=\"text-align: right;\">\n",
       "      <th></th>\n",
       "      <th>종목코드</th>\n",
       "      <th>수요예측(시작일)</th>\n",
       "      <th>수요예측(종료일)</th>\n",
       "      <th>상장예정일</th>\n",
       "      <th>기업명</th>\n",
       "      <th>공모주식수</th>\n",
       "      <th>신주모집수</th>\n",
       "      <th>구주매출</th>\n",
       "      <th>하단공모가액</th>\n",
       "      <th>상단공모가액</th>\n",
       "      <th>확정공모가액</th>\n",
       "      <th>기관 경쟁률</th>\n",
       "      <th>의무보유 확약</th>\n",
       "      <th>공모금액 (백만원)</th>\n",
       "    </tr>\n",
       "  </thead>\n",
       "  <tbody>\n",
       "    <tr>\n",
       "      <th>0</th>\n",
       "      <td>406820</td>\n",
       "      <td>2023.07.10</td>\n",
       "      <td>2023.07.11</td>\n",
       "      <td>2023.07.24</td>\n",
       "      <td>뷰티스킨</td>\n",
       "      <td>440000</td>\n",
       "      <td>440000</td>\n",
       "      <td>0</td>\n",
       "      <td>21000</td>\n",
       "      <td>24000</td>\n",
       "      <td>26000</td>\n",
       "      <td>1819.7 :1</td>\n",
       "      <td>10.93%</td>\n",
       "      <td>-</td>\n",
       "    </tr>\n",
       "    <tr>\n",
       "      <th>1</th>\n",
       "      <td>455910</td>\n",
       "      <td>2023.07.06</td>\n",
       "      <td>2023.07.07</td>\n",
       "      <td>2023.07.21</td>\n",
       "      <td>SK증권스팩9호</td>\n",
       "      <td>4000000</td>\n",
       "      <td>4000000</td>\n",
       "      <td>0</td>\n",
       "      <td>2000</td>\n",
       "      <td>2000</td>\n",
       "      <td>2000</td>\n",
       "      <td>1,002.51:1</td>\n",
       "      <td>3.54%</td>\n",
       "      <td>8000</td>\n",
       "    </tr>\n",
       "    <tr>\n",
       "      <th>2</th>\n",
       "      <td>321370</td>\n",
       "      <td>2023.07.03</td>\n",
       "      <td>2023.07.04</td>\n",
       "      <td>2023.07.19</td>\n",
       "      <td>센서뷰</td>\n",
       "      <td>3900000</td>\n",
       "      <td>3900000</td>\n",
       "      <td>0</td>\n",
       "      <td>2900</td>\n",
       "      <td>3600</td>\n",
       "      <td>4500</td>\n",
       "      <td>1,673.33:1</td>\n",
       "      <td>7.41%</td>\n",
       "      <td>11310</td>\n",
       "    </tr>\n",
       "    <tr>\n",
       "      <th>3</th>\n",
       "      <td>432430</td>\n",
       "      <td>2023.07.03</td>\n",
       "      <td>2023.07.04</td>\n",
       "      <td>2023.07.20</td>\n",
       "      <td>와이랩</td>\n",
       "      <td>3000000</td>\n",
       "      <td>3000000</td>\n",
       "      <td>0</td>\n",
       "      <td>7000</td>\n",
       "      <td>8000</td>\n",
       "      <td>9000</td>\n",
       "      <td>1821.64:1</td>\n",
       "      <td>14.72%</td>\n",
       "      <td>21000</td>\n",
       "    </tr>\n",
       "  </tbody>\n",
       "</table>\n",
       "</div>"
      ],
      "text/plain": [
       "     종목코드   수요예측(시작일)   수요예측(종료일)       상장예정일       기업명    공모주식수    신주모집수  \\\n",
       "0  406820  2023.07.10  2023.07.11  2023.07.24      뷰티스킨   440000   440000   \n",
       "1  455910  2023.07.06  2023.07.07  2023.07.21  SK증권스팩9호  4000000  4000000   \n",
       "2  321370  2023.07.03  2023.07.04  2023.07.19       센서뷰  3900000  3900000   \n",
       "3  432430  2023.07.03  2023.07.04  2023.07.20       와이랩  3000000  3000000   \n",
       "\n",
       "   구주매출  하단공모가액  상단공모가액  확정공모가액      기관 경쟁률 의무보유 확약 공모금액 (백만원)  \n",
       "0     0   21000   24000   26000   1819.7 :1  10.93%          -  \n",
       "1     0    2000    2000    2000  1,002.51:1   3.54%       8000  \n",
       "2     0    2900    3600    4500  1,673.33:1   7.41%      11310  \n",
       "3     0    7000    8000    9000   1821.64:1  14.72%      21000  "
      ]
     },
     "execution_count": 17,
     "metadata": {},
     "output_type": "execute_result"
    }
   ],
   "source": [
    "first_df"
   ]
  },
  {
   "cell_type": "code",
   "execution_count": null,
   "id": "a1de579c-dc38-4778-a116-b1d409d88519",
   "metadata": {},
   "outputs": [],
   "source": []
  },
  {
   "cell_type": "markdown",
   "id": "10ae3d74-73c2-4bfc-8bc5-0a4ede8e72bb",
   "metadata": {},
   "source": [
    "* KIND"
   ]
  },
  {
   "cell_type": "code",
   "execution_count": null,
   "id": "cfa10ec7-9296-4aaa-a6c6-09d8fbb507ab",
   "metadata": {},
   "outputs": [],
   "source": [
    "1. 예비심사기업에서 종목 코드로 조회하여 회사명을 딴다\n",
    "2. 공모기업현황에서 해당 회사명을 클릭한다\n",
    "3. 새 창에서 기존에 가져왔던 모든 내용을 수집한다."
   ]
  },
  {
   "cell_type": "code",
   "execution_count": 16,
   "id": "6d0e472b-e6ba-4c9e-8ce2-342c08ea0430",
   "metadata": {},
   "outputs": [
    {
     "data": {
      "text/plain": [
       "\"\\noptions = Options()\\noptions.add_argument('--disable-gpu')\\noptions.add_argument('--headless')\\n\\n@st.experimental_singleton\\ndef get_driver():\\n\\xa0\\xa0\\xa0 return webdriver.Chrome(service=Service(ChromeDriverManager().install()), options=options)\\n\""
      ]
     },
     "execution_count": 16,
     "metadata": {},
     "output_type": "execute_result"
    }
   ],
   "source": [
    "'''\n",
    "options = Options()\n",
    "options.add_argument('--disable-gpu')\n",
    "options.add_argument('--headless')\n",
    "\n",
    "@st.experimental_singleton\n",
    "def get_driver():\n",
    "    return webdriver.Chrome(service=Service(ChromeDriverManager().install()), options=options)\n",
    "'''"
   ]
  },
  {
   "cell_type": "code",
   "execution_count": 18,
   "id": "fd2e689b-b633-459d-b77f-641c53f29fff",
   "metadata": {},
   "outputs": [],
   "source": [
    "driver = webdriver.Chrome()"
   ]
  },
  {
   "cell_type": "code",
   "execution_count": 19,
   "id": "f66eb487-5286-471a-af93-f896ed25e95d",
   "metadata": {},
   "outputs": [
    {
     "ename": "IndexError",
     "evalue": "list index out of range",
     "output_type": "error",
     "traceback": [
      "\u001b[1;31m---------------------------------------------------------------------------\u001b[0m",
      "\u001b[1;31mIndexError\u001b[0m                                Traceback (most recent call last)",
      "Cell \u001b[1;32mIn[19], line 9\u001b[0m\n\u001b[0;32m      7\u001b[0m \u001b[38;5;28;01mfor\u001b[39;00m idx, code \u001b[38;5;129;01min\u001b[39;00m \u001b[38;5;28menumerate\u001b[39m(first_df[\u001b[38;5;124m'\u001b[39m\u001b[38;5;124m종목코드\u001b[39m\u001b[38;5;124m'\u001b[39m]):\n\u001b[0;32m      8\u001b[0m     \u001b[38;5;28;01mif\u001b[39;00m idx \u001b[38;5;241m==\u001b[39m \u001b[38;5;241m0\u001b[39m:\n\u001b[1;32m----> 9\u001b[0m         second_df \u001b[38;5;241m=\u001b[39m \u001b[43mget_kind\u001b[49m\u001b[43m(\u001b[49m\u001b[43mdriver\u001b[49m\u001b[43m,\u001b[49m\u001b[43m \u001b[49m\u001b[43mcode\u001b[49m\u001b[43m)\u001b[49m\n\u001b[0;32m     10\u001b[0m     \u001b[38;5;28;01melse\u001b[39;00m:\n\u001b[0;32m     11\u001b[0m         df \u001b[38;5;241m=\u001b[39m get_kind(driver, code, FIRST \u001b[38;5;241m=\u001b[39m \u001b[38;5;28;01mFalse\u001b[39;00m)\n",
      "Cell \u001b[1;32mIn[2], line 40\u001b[0m, in \u001b[0;36mget_kind\u001b[1;34m(driver, code, FIRST)\u001b[0m\n\u001b[0;32m     37\u001b[0m driver\u001b[38;5;241m.\u001b[39mfind_element(By\u001b[38;5;241m.\u001b[39mCSS_SELECTOR, \u001b[38;5;124m'\u001b[39m\u001b[38;5;124m#main-contents > section.scrarea.type-00 > table > tbody > tr\u001b[39m\u001b[38;5;124m'\u001b[39m)\u001b[38;5;241m.\u001b[39mclick()\n\u001b[0;32m     38\u001b[0m time\u001b[38;5;241m.\u001b[39msleep(\u001b[38;5;241m0.25\u001b[39m)\n\u001b[1;32m---> 40\u001b[0m driver\u001b[38;5;241m.\u001b[39mswitch_to\u001b[38;5;241m.\u001b[39mwindow(\u001b[43mdriver\u001b[49m\u001b[38;5;241;43m.\u001b[39;49m\u001b[43mwindow_handles\u001b[49m\u001b[43m[\u001b[49m\u001b[38;5;241;43m1\u001b[39;49m\u001b[43m]\u001b[49m)\n\u001b[0;32m     41\u001b[0m wait \u001b[38;5;241m=\u001b[39m WebDriverWait(driver, \u001b[38;5;241m10\u001b[39m, poll_frequency\u001b[38;5;241m=\u001b[39m\u001b[38;5;241m0.25\u001b[39m)\n\u001b[0;32m     42\u001b[0m wait\u001b[38;5;241m.\u001b[39muntil(EC\u001b[38;5;241m.\u001b[39mpresence_of_element_located((By\u001b[38;5;241m.\u001b[39mCLASS_NAME, \u001b[38;5;124m\"\u001b[39m\u001b[38;5;124mbtn-sprite.type-98.vmiddle\u001b[39m\u001b[38;5;124m\"\u001b[39m)))\n",
      "\u001b[1;31mIndexError\u001b[0m: list index out of range"
     ]
    }
   ],
   "source": [
    "## 01.KIND 접속\n",
    "driver.get(\"https://kind.krx.co.kr/listinvstg/listingcompany.do?method=searchListingTypeMain\")\n",
    "\n",
    "wait = WebDriverWait(driver, 10, poll_frequency=0.25)\n",
    "wait.until(EC.presence_of_element_located((By.ID, \"fromDate\")))\n",
    "\n",
    "for idx, code in enumerate(first_df['종목코드']):\n",
    "    if idx == 0:\n",
    "        second_df = get_kind(driver, code)\n",
    "    else:\n",
    "        df = get_kind(driver, code, FIRST = False)\n",
    "        second_df = pd.concat([second_df, df])\n",
    "        \n",
    "driver.close()\n",
    "del second_df['회사명'], second_df['상장일'], second_df['상장유형'], second_df['업종'], second_df['국적'], second_df['증권구분']\n",
    "\n",
    "second_df.head(1)"
   ]
  },
  {
   "cell_type": "code",
   "execution_count": 20,
   "id": "297ce527-5e1b-47af-8f81-a77324ad853c",
   "metadata": {},
   "outputs": [],
   "source": [
    "final_df = pd.merge(first_df, second_df, on = '종목코드', how = 'left')"
   ]
  },
  {
   "cell_type": "code",
   "execution_count": 21,
   "id": "9a46c58c-fed1-40c3-b872-2e53fa1b4555",
   "metadata": {},
   "outputs": [],
   "source": [
    "del final_df['종목코드']"
   ]
  },
  {
   "cell_type": "code",
   "execution_count": null,
   "id": "aea45176-fefd-4706-aaa9-88798880adad",
   "metadata": {},
   "outputs": [],
   "source": []
  },
  {
   "cell_type": "markdown",
   "id": "b3f1d396-69a7-4d7e-9e16-9f6d3bcc6f5d",
   "metadata": {},
   "source": [
    "* 최종 결과 형태"
   ]
  },
  {
   "cell_type": "code",
   "execution_count": 23,
   "id": "6bee1540-94f3-48b4-a58d-b32aad8ac32b",
   "metadata": {},
   "outputs": [
    {
     "data": {
      "text/plain": [
       "Index(['수요예측(시작일)', '수요예측(종료일)', '상장예정일', '기업명', '공모주식수', '신주모집수', '구주매출',\n",
       "       '하단공모가액', '상단공모가액', '확정공모가액', '기관 경쟁률', '의무보유 확약', '공모금액 (백만원)',\n",
       "       '상장주선인/ 지정자문인', '상장주식수', '유통가능주식수', '주요제품', '전전연도매출액(T-2)',\n",
       "       '직전연도매출액(T-1)', '당해연도매출액(T)', '전전연도영업이익(T-2)', '직전연도영업이익(T-1)',\n",
       "       '당해연도영업이익(T)', '전전연도당기순이익(T-2)', '직전연도당기순이익(T-1)', '당해연도당기순이익(T)'],\n",
       "      dtype='object')"
      ]
     },
     "execution_count": 23,
     "metadata": {},
     "output_type": "execute_result"
    }
   ],
   "source": [
    "final_df.columns"
   ]
  },
  {
   "cell_type": "code",
   "execution_count": 24,
   "id": "ad961ab7-4d49-430e-afc2-4a1bcb1cc79f",
   "metadata": {},
   "outputs": [],
   "source": [
    "select_col = ['수요예측(시작일)', '수요예측(종료일)', '상장예정일', '상장주선인/ 지정자문인', '기업명', \n",
    "              '공모주식수', '신주모집수', '구주매출', '하단공모가액', '상단공모가액', '상장주식수',\n",
    "              '유통가능주식수', '확정공모가액', '기관 경쟁률', '의무보유 확약', \n",
    "               '전전연도매출액(T-2)', '직전연도매출액(T-1)', '당해연도매출액(T)', '전전연도영업이익(T-2)', '직전연도영업이익(T-1)',\n",
    "               '당해연도영업이익(T)', '전전연도당기순이익(T-2)', '직전연도당기순이익(T-1)', '당해연도당기순이익(T)', '주요제품']"
   ]
  },
  {
   "cell_type": "code",
   "execution_count": 111,
   "id": "40a70951-023b-47f2-ad3d-d85ddd068688",
   "metadata": {},
   "outputs": [],
   "source": [
    "final_df.loc[:, select_col].to_excel(\"IB전략컨설팅부-IPO공모기업현황요약.xlsx\", index = False)"
   ]
  },
  {
   "cell_type": "code",
   "execution_count": null,
   "id": "37d1f800-0661-4b0e-9155-7712ba68d409",
   "metadata": {},
   "outputs": [],
   "source": []
  }
 ],
 "metadata": {
  "kernelspec": {
   "display_name": "Python 3 (ipykernel)",
   "language": "python",
   "name": "python3"
  },
  "language_info": {
   "codemirror_mode": {
    "name": "ipython",
    "version": 3
   },
   "file_extension": ".py",
   "mimetype": "text/x-python",
   "name": "python",
   "nbconvert_exporter": "python",
   "pygments_lexer": "ipython3",
   "version": "3.9.13"
  }
 },
 "nbformat": 4,
 "nbformat_minor": 5
}
